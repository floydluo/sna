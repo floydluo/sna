{
 "cells": [
  {
   "cell_type": "markdown",
   "metadata": {},
   "source": [
    "## Part 0 Set up"
   ]
  },
  {
   "cell_type": "markdown",
   "metadata": {},
   "source": [
    "### Before you start this tutorial, you need have the following things done.\n",
    "    \n",
    " 1. Install R in you desktop.\n",
    "    \n",
    "       Type `R` in your terminal or powershell. \n",
    "       \n",
    "       __If you enter R's interface, you are done!__\n",
    "       \n",
    "       R-3.3.1 for Mac OS: https://cran.r-project.org/bin/macosx/\n",
    "\n",
    "       R-3.3.1 for Windows: https://cran.r-project.org/bin/windows/base/\n",
    "        \n",
    "        \n",
    " 2. Install `numpy`, `matplotlib`, `pandas`.\n",
    " \n",
    " 3. Install `networkX`.\n",
    " \n",
    " 4. Install `sqlite3`.\n",
    " \n",
    " 5. Install `rpy2`\n",
    " \n",
    " 6. Most Important: have the database `data.sqlite` database in the current directory."
   ]
  },
  {
   "cell_type": "markdown",
   "metadata": {},
   "source": [
    "### This is a Data Visualizaition tutorial"
   ]
  },
  {
   "cell_type": "markdown",
   "metadata": {},
   "source": [
    "We have all the inforamtion of the authors and documents from MISQ.\n",
    "\n",
    "And we want to explore a relationship -- coauthorship. \n",
    "\n",
    "By the means of drawing the dynamic network graphs, we can find some insight of the authors' relationship and make good representation of the data we got."
   ]
  },
  {
   "cell_type": "markdown",
   "metadata": {},
   "source": [
    "## Part 1 Manipulate the Data"
   ]
  },
  {
   "cell_type": "code",
   "execution_count": 1,
   "metadata": {
    "collapsed": true
   },
   "outputs": [],
   "source": [
    "import pandas as pd\n",
    "import numpy as np\n",
    "import matplotlib.pyplot as plt\n",
    "from pandas import DataFrame, Series\n",
    "import networkx as nx\n",
    "\n",
    "# itertools is used to make the combinations list between any two authors in one documents.\n",
    "import itertools\n",
    "\n",
    "# sqlite3 is used to query authors-documents data from data.sqlite\n",
    "import sqlite3"
   ]
  },
  {
   "cell_type": "code",
   "execution_count": 2,
   "metadata": {
    "collapsed": false
   },
   "outputs": [],
   "source": [
    "\n",
    "# show the figures in the notebook\n"
   ]
  },
  {
   "cell_type": "markdown",
   "metadata": {},
   "source": [
    "__Here we use `sqlite3` and SQL language to query the data we want from the database.__\n",
    "\n",
    "\n",
    "__Then use `pandas` to manipulate the tables.__"
   ]
  },
  {
   "cell_type": "code",
   "execution_count": 3,
   "metadata": {
    "collapsed": true
   },
   "outputs": [],
   "source": [
    "# make connection to the database\n",
    "con = sqlite3.connect(\"data.sqlite\")\n",
    "\n",
    "# the SQL language, aim to get authors and their's documents information.\n",
    "auth_docu_mod ='''\n",
    "select authors_id, documents_id, full_name, title\n",
    "from authors a, documents b, documents_authors c\n",
    "where a.id=c.authors_id and c.documents_id=b.id;\n",
    "'''"
   ]
  },
  {
   "cell_type": "code",
   "execution_count": 4,
   "metadata": {
    "collapsed": false
   },
   "outputs": [
    {
     "name": "stdout",
     "output_type": "stream",
     "text": [
      "2757\n"
     ]
    },
    {
     "data": {
      "text/html": [
       "<div>\n",
       "<table border=\"1\" class=\"dataframe\">\n",
       "  <thead>\n",
       "    <tr style=\"text-align: right;\">\n",
       "      <th></th>\n",
       "      <th>authors_id</th>\n",
       "      <th>documents_id</th>\n",
       "      <th>full_name</th>\n",
       "      <th>title</th>\n",
       "    </tr>\n",
       "  </thead>\n",
       "  <tbody>\n",
       "    <tr>\n",
       "      <th>0</th>\n",
       "      <td>1</td>\n",
       "      <td>1</td>\n",
       "      <td>Gerald//Matlin</td>\n",
       "      <td>How to Survive a Management Assessment</td>\n",
       "    </tr>\n",
       "    <tr>\n",
       "      <th>1</th>\n",
       "      <td>2</td>\n",
       "      <td>2</td>\n",
       "      <td>A.//Jenkins</td>\n",
       "      <td>What the Information Analyst Should Know About...</td>\n",
       "    </tr>\n",
       "    <tr>\n",
       "      <th>2</th>\n",
       "      <td>3</td>\n",
       "      <td>2</td>\n",
       "      <td>Randall//Johnson</td>\n",
       "      <td>What the Information Analyst Should Know About...</td>\n",
       "    </tr>\n",
       "    <tr>\n",
       "      <th>3</th>\n",
       "      <td>4</td>\n",
       "      <td>3</td>\n",
       "      <td>Alfonso//Cardenas</td>\n",
       "      <td>Technology for the Automatic Generation of App...</td>\n",
       "    </tr>\n",
       "    <tr>\n",
       "      <th>4</th>\n",
       "      <td>5</td>\n",
       "      <td>4</td>\n",
       "      <td>Robert//Bostrom</td>\n",
       "      <td>MIS Problems and Failures: A Socio-Technical P...</td>\n",
       "    </tr>\n",
       "  </tbody>\n",
       "</table>\n",
       "</div>"
      ],
      "text/plain": [
       "   authors_id  documents_id          full_name  \\\n",
       "0           1             1     Gerald//Matlin   \n",
       "1           2             2        A.//Jenkins   \n",
       "2           3             2   Randall//Johnson   \n",
       "3           4             3  Alfonso//Cardenas   \n",
       "4           5             4    Robert//Bostrom   \n",
       "\n",
       "                                               title  \n",
       "0             How to Survive a Management Assessment  \n",
       "1  What the Information Analyst Should Know About...  \n",
       "2  What the Information Analyst Should Know About...  \n",
       "3  Technology for the Automatic Generation of App...  \n",
       "4  MIS Problems and Failures: A Socio-Technical P...  "
      ]
     },
     "execution_count": 4,
     "metadata": {},
     "output_type": "execute_result"
    }
   ],
   "source": [
    "# in this way, we get the table we want to manipulated.\n",
    "\n",
    "\n",
    "# this showsthe number of author-document relationship: 2757\n",
    "print(len(X))\n",
    "\n",
    "# this code will show the first 5 rows of the table.\n",
    "X.head()"
   ]
  },
  {
   "cell_type": "code",
   "execution_count": 5,
   "metadata": {
    "collapsed": false
   },
   "outputs": [
    {
     "name": "stdout",
     "output_type": "stream",
     "text": [
      "1287\n"
     ]
    },
    {
     "data": {
      "text/plain": [
       "documents_id\n",
       "1    1\n",
       "2    2\n",
       "3    1\n",
       "dtype: int64"
      ]
     },
     "execution_count": 5,
     "metadata": {},
     "output_type": "execute_result"
    }
   ],
   "source": [
    "# now we want a Series \n",
    "# whose index is documents' ids and \n",
    "# whose value is this document's authors number.\n",
    "Documents = X.documents_id.groupby(by = X.documents_id).size()\n",
    "\n",
    "# totally, we get 1287 documents.\n",
    "print(len(Documents))\n",
    "\n",
    "# show the first 3 values.\n",
    "Documents.head(3)"
   ]
  },
  {
   "cell_type": "code",
   "execution_count": 6,
   "metadata": {
    "collapsed": false
   },
   "outputs": [
    {
     "data": {
      "text/html": [
       "<div>\n",
       "<table border=\"1\" class=\"dataframe\">\n",
       "  <thead>\n",
       "    <tr style=\"text-align: right;\">\n",
       "      <th></th>\n",
       "      <th>index</th>\n",
       "      <th>0</th>\n",
       "    </tr>\n",
       "  </thead>\n",
       "  <tbody>\n",
       "    <tr>\n",
       "      <th>0</th>\n",
       "      <td>1</td>\n",
       "      <td>353</td>\n",
       "    </tr>\n",
       "    <tr>\n",
       "      <th>1</th>\n",
       "      <td>2</td>\n",
       "      <td>537</td>\n",
       "    </tr>\n",
       "    <tr>\n",
       "      <th>2</th>\n",
       "      <td>3</td>\n",
       "      <td>299</td>\n",
       "    </tr>\n",
       "    <tr>\n",
       "      <th>3</th>\n",
       "      <td>4</td>\n",
       "      <td>76</td>\n",
       "    </tr>\n",
       "    <tr>\n",
       "      <th>4</th>\n",
       "      <td>5</td>\n",
       "      <td>13</td>\n",
       "    </tr>\n",
       "    <tr>\n",
       "      <th>5</th>\n",
       "      <td>6</td>\n",
       "      <td>6</td>\n",
       "    </tr>\n",
       "    <tr>\n",
       "      <th>6</th>\n",
       "      <td>7</td>\n",
       "      <td>2</td>\n",
       "    </tr>\n",
       "    <tr>\n",
       "      <th>7</th>\n",
       "      <td>14</td>\n",
       "      <td>1</td>\n",
       "    </tr>\n",
       "  </tbody>\n",
       "</table>\n",
       "</div>"
      ],
      "text/plain": [
       "   index    0\n",
       "0      1  353\n",
       "1      2  537\n",
       "2      3  299\n",
       "3      4   76\n",
       "4      5   13\n",
       "5      6    6\n",
       "6      7    2\n",
       "7     14    1"
      ]
     },
     "execution_count": 6,
     "metadata": {},
     "output_type": "execute_result"
    }
   ],
   "source": [
    "# this code is try to show the distribution of this Series\n",
    "discribe = Documents.groupby(Documents).size().reset_index()\n",
    "discribe"
   ]
  },
  {
   "cell_type": "markdown",
   "metadata": {},
   "source": [
    "__'index' is the one paper's authors number__\n",
    "\n",
    "we can see:\n",
    "\n",
    "the number of papers with 1 author is 353.\n",
    "\n",
    "the number of papers with 2 author is 537.\n",
    "\n",
    "...\n",
    "\n",
    "there is just one paper whose authors number is 14 !"
   ]
  },
  {
   "cell_type": "code",
   "execution_count": 7,
   "metadata": {
    "collapsed": false
   },
   "outputs": [
    {
     "name": "stdout",
     "output_type": "stream",
     "text": [
      "1685\n"
     ]
    },
    {
     "data": {
      "text/plain": [
       "authors_id\n",
       "1    2\n",
       "2    1\n",
       "3    1\n",
       "dtype: int64"
      ]
     },
     "execution_count": 7,
     "metadata": {},
     "output_type": "execute_result"
    }
   ],
   "source": [
    "# the same logic can be applied in Authors\n",
    "\n",
    "\n",
    "Authors = X.groupby(by = X.authors_id).size()\n",
    "print(len(Authors))\n",
    "\n",
    "Authors.head(3)"
   ]
  },
  {
   "cell_type": "code",
   "execution_count": 8,
   "metadata": {
    "collapsed": false
   },
   "outputs": [
    {
     "data": {
      "text/html": [
       "<div>\n",
       "<table border=\"1\" class=\"dataframe\">\n",
       "  <thead>\n",
       "    <tr style=\"text-align: right;\">\n",
       "      <th></th>\n",
       "      <th>index</th>\n",
       "      <th>0</th>\n",
       "    </tr>\n",
       "  </thead>\n",
       "  <tbody>\n",
       "    <tr>\n",
       "      <th>0</th>\n",
       "      <td>1</td>\n",
       "      <td>1255</td>\n",
       "    </tr>\n",
       "    <tr>\n",
       "      <th>1</th>\n",
       "      <td>2</td>\n",
       "      <td>216</td>\n",
       "    </tr>\n",
       "    <tr>\n",
       "      <th>2</th>\n",
       "      <td>3</td>\n",
       "      <td>104</td>\n",
       "    </tr>\n",
       "    <tr>\n",
       "      <th>3</th>\n",
       "      <td>4</td>\n",
       "      <td>42</td>\n",
       "    </tr>\n",
       "    <tr>\n",
       "      <th>4</th>\n",
       "      <td>5</td>\n",
       "      <td>23</td>\n",
       "    </tr>\n",
       "    <tr>\n",
       "      <th>5</th>\n",
       "      <td>6</td>\n",
       "      <td>14</td>\n",
       "    </tr>\n",
       "    <tr>\n",
       "      <th>6</th>\n",
       "      <td>7</td>\n",
       "      <td>7</td>\n",
       "    </tr>\n",
       "    <tr>\n",
       "      <th>7</th>\n",
       "      <td>8</td>\n",
       "      <td>4</td>\n",
       "    </tr>\n",
       "    <tr>\n",
       "      <th>8</th>\n",
       "      <td>9</td>\n",
       "      <td>4</td>\n",
       "    </tr>\n",
       "    <tr>\n",
       "      <th>9</th>\n",
       "      <td>10</td>\n",
       "      <td>5</td>\n",
       "    </tr>\n",
       "    <tr>\n",
       "      <th>10</th>\n",
       "      <td>12</td>\n",
       "      <td>3</td>\n",
       "    </tr>\n",
       "    <tr>\n",
       "      <th>11</th>\n",
       "      <td>13</td>\n",
       "      <td>1</td>\n",
       "    </tr>\n",
       "    <tr>\n",
       "      <th>12</th>\n",
       "      <td>14</td>\n",
       "      <td>1</td>\n",
       "    </tr>\n",
       "    <tr>\n",
       "      <th>13</th>\n",
       "      <td>15</td>\n",
       "      <td>1</td>\n",
       "    </tr>\n",
       "    <tr>\n",
       "      <th>14</th>\n",
       "      <td>16</td>\n",
       "      <td>1</td>\n",
       "    </tr>\n",
       "    <tr>\n",
       "      <th>15</th>\n",
       "      <td>18</td>\n",
       "      <td>2</td>\n",
       "    </tr>\n",
       "    <tr>\n",
       "      <th>16</th>\n",
       "      <td>30</td>\n",
       "      <td>1</td>\n",
       "    </tr>\n",
       "    <tr>\n",
       "      <th>17</th>\n",
       "      <td>64</td>\n",
       "      <td>1</td>\n",
       "    </tr>\n",
       "  </tbody>\n",
       "</table>\n",
       "</div>"
      ],
      "text/plain": [
       "    index     0\n",
       "0       1  1255\n",
       "1       2   216\n",
       "2       3   104\n",
       "3       4    42\n",
       "4       5    23\n",
       "5       6    14\n",
       "6       7     7\n",
       "7       8     4\n",
       "8       9     4\n",
       "9      10     5\n",
       "10     12     3\n",
       "11     13     1\n",
       "12     14     1\n",
       "13     15     1\n",
       "14     16     1\n",
       "15     18     2\n",
       "16     30     1\n",
       "17     64     1"
      ]
     },
     "execution_count": 8,
     "metadata": {},
     "output_type": "execute_result"
    }
   ],
   "source": [
    "discribe = Authors.groupby(Authors).size().reset_index()\n",
    "discribe"
   ]
  },
  {
   "cell_type": "markdown",
   "metadata": {},
   "source": [
    "There are 1255 authors who published 1 paper  in MISQ.\n",
    "\n",
    "There are 216  authors who published 2 papers in MISQ.\n",
    "\n",
    "There are a super star who published 30 papers in MISQ.\n",
    "\n",
    "And, strikingly, there is an author who published 64 papers by himself.\n",
    "\n",
    "But this author's name is \"MIS Quarterly\" (I don't know why)"
   ]
  },
  {
   "cell_type": "code",
   "execution_count": 9,
   "metadata": {
    "collapsed": false
   },
   "outputs": [
    {
     "data": {
      "text/plain": [
       "1685"
      ]
     },
     "execution_count": 9,
     "metadata": {},
     "output_type": "execute_result"
    }
   ],
   "source": [
    "# here I put all authors id in a set, for a further issue.\n",
    "all_authors = set(X.authors_id)\n",
    "\n",
    "# this show the total number of the authors: 1685\n",
    "len(all_authors)"
   ]
  },
  {
   "cell_type": "markdown",
   "metadata": {},
   "source": [
    "## Part 2 Make Combination"
   ]
  },
  {
   "cell_type": "code",
   "execution_count": 10,
   "metadata": {
    "collapsed": false
   },
   "outputs": [
    {
     "data": {
      "text/plain": [
       "1287"
      ]
     },
     "execution_count": 10,
     "metadata": {},
     "output_type": "execute_result"
    }
   ],
   "source": [
    "# from this part, we start make combination between co-authors.\n",
    "\n",
    "# here Y is an array, and the element is the unique document_ids of all documents\n",
    "Y = X[\"documents_id\"].unique()\n",
    "\n",
    "x = []\n",
    "y = {}\n",
    "\n",
    "uniq = Y\n",
    "\n",
    "len(Y)"
   ]
  },
  {
   "cell_type": "code",
   "execution_count": 11,
   "metadata": {
    "collapsed": false
   },
   "outputs": [
    {
     "data": {
      "text/plain": [
       "1287"
      ]
     },
     "execution_count": 11,
     "metadata": {},
     "output_type": "execute_result"
    }
   ],
   "source": [
    "# this code make a dictionary y\n",
    "# for every pair of key and value\n",
    "# the key is the document_id\n",
    "# the value is a Series whose elements are author_ids for the document that its key represents.\n",
    "\n",
    "for article in uniq:\n",
    "    y[article] = X.loc[X['documents_id'] == article]['authors_id']\n",
    "    \n",
    "len(y)"
   ]
  },
  {
   "cell_type": "markdown",
   "metadata": {},
   "source": [
    "__Here is a sample code shows how `itertools.combinations` work__"
   ]
  },
  {
   "cell_type": "code",
   "execution_count": 12,
   "metadata": {
    "collapsed": false
   },
   "outputs": [
    {
     "name": "stdout",
     "output_type": "stream",
     "text": [
      "<class 'itertools.combinations'>\n",
      "('auth1', 'auth2')\n",
      "('auth1', 'auth3')\n",
      "('auth1', 'auth4')\n",
      "('auth2', 'auth3')\n",
      "('auth2', 'auth4')\n",
      "('auth3', 'auth4')\n"
     ]
    }
   ],
   "source": [
    "# first create a list\n",
    "article = [ \"auth1\", \"auth2\", \"auth3\", \"auth4\"]\n",
    "\n",
    "# then choose any two of them, the combinations' number is 2C4 = 6\n",
    "# itertools.combinations() can do this job\n",
    "\n",
    "g = itertools.combinations(article, 2)\n",
    "\n",
    "# the type of g is generator, for some concerns, I will transfer it to a list.\n",
    "print(type(g))\n",
    "for i in g:\n",
    "    print(i)"
   ]
  },
  {
   "cell_type": "code",
   "execution_count": 13,
   "metadata": {
    "collapsed": false
   },
   "outputs": [
    {
     "data": {
      "text/plain": [
       "2243"
      ]
     },
     "execution_count": 13,
     "metadata": {},
     "output_type": "execute_result"
    }
   ],
   "source": [
    "# create a list to contains all the combinations relationships.\n",
    "combinations = []\n",
    "\n",
    "for article in y:\n",
    "    \n",
    "    # here y[article] can be regarded as a list\n",
    "    # I add list() here, to change generator to list.\n",
    "    g = list(itertools.combinations(y[article], 2))\n",
    "    \n",
    "    for sub in g:\n",
    "        combinations.append(sub)\n",
    "        \n",
    "# to show how many relationship we get.\n",
    "len(combinations)\n"
   ]
  },
  {
   "cell_type": "markdown",
   "metadata": {},
   "source": []
  },
  {
   "cell_type": "code",
   "execution_count": 14,
   "metadata": {
    "collapsed": false
   },
   "outputs": [
    {
     "data": {
      "text/plain": [
       "2243"
      ]
     },
     "execution_count": 14,
     "metadata": {},
     "output_type": "execute_result"
    }
   ],
   "source": [
    "# obviously, it is correct\n",
    "5"
   ]
  },
  {
   "cell_type": "markdown",
   "metadata": {},
   "source": [
    "## Part 3 Single Auth, Success Auth and Edges"
   ]
  },
  {
   "cell_type": "markdown",
   "metadata": {},
   "source": [
    "__The aim is: Get Three Tables, and Used Them to Make Networks__"
   ]
  },
  {
   "cell_type": "code",
   "execution_count": 15,
   "metadata": {
    "collapsed": false
   },
   "outputs": [
    {
     "name": "stdout",
     "output_type": "stream",
     "text": [
      "118\n",
      "1567\n"
     ]
    }
   ],
   "source": [
    "# here I divide the authors into two groups: success-authors and single-dogs (just a joke)\n",
    "# the suc_authors are the authors who are in the list of combinations.\n",
    "# the singlg_dogs are the authors who are not in the list of combinations\n",
    "\n",
    "# to show in the networks graph\n",
    "# suc_authors will have at least one edge to connect other authors\n",
    "# single_dogs will just be the single dots in the graph.\n",
    "\n",
    "\n",
    "suc_authors = set()\n",
    "for edge in combinations:\n",
    "    for auth in edge:\n",
    "        suc_authors.add(auth)\n",
    "        \n",
    "single_dogs= all_authors - suc_authors\n",
    "\n",
    "# the number of single dogs\n",
    "print(len(single_dogs))\n",
    "# the number of succes authors\n",
    "print(len(suc_authors))\n",
    "\n",
    "# something interesting I want to add\n",
    "# intuitively, the authors who just have one paper published have great probablities to be single dogs\n",
    "# however\n",
    "# there are a lot of success authors just have one paper published, and\n",
    "# there are also some single dogs who published 2, even 3 documents."
   ]
  },
  {
   "cell_type": "code",
   "execution_count": 16,
   "metadata": {
    "collapsed": false
   },
   "outputs": [
    {
     "data": {
      "text/html": [
       "<div>\n",
       "<table border=\"1\" class=\"dataframe\">\n",
       "  <thead>\n",
       "    <tr style=\"text-align: right;\">\n",
       "      <th></th>\n",
       "      <th>authors_id</th>\n",
       "      <th>full_name</th>\n",
       "    </tr>\n",
       "  </thead>\n",
       "  <tbody>\n",
       "    <tr>\n",
       "      <th>0</th>\n",
       "      <td>1</td>\n",
       "      <td>Gerald//Matlin</td>\n",
       "    </tr>\n",
       "    <tr>\n",
       "      <th>1</th>\n",
       "      <td>2</td>\n",
       "      <td>A.//Jenkins</td>\n",
       "    </tr>\n",
       "    <tr>\n",
       "      <th>2</th>\n",
       "      <td>3</td>\n",
       "      <td>Randall//Johnson</td>\n",
       "    </tr>\n",
       "    <tr>\n",
       "      <th>3</th>\n",
       "      <td>4</td>\n",
       "      <td>Alfonso//Cardenas</td>\n",
       "    </tr>\n",
       "    <tr>\n",
       "      <th>4</th>\n",
       "      <td>5</td>\n",
       "      <td>Robert//Bostrom</td>\n",
       "    </tr>\n",
       "  </tbody>\n",
       "</table>\n",
       "</div>"
      ],
      "text/plain": [
       "   authors_id          full_name\n",
       "0           1     Gerald//Matlin\n",
       "1           2        A.//Jenkins\n",
       "2           3   Randall//Johnson\n",
       "3           4  Alfonso//Cardenas\n",
       "4           5    Robert//Bostrom"
      ]
     },
     "execution_count": 16,
     "metadata": {},
     "output_type": "execute_result"
    }
   ],
   "source": [
    "# here I need to add the names as the labels.\n",
    "# so I want to create a DataFrame A_N, author and name\n",
    "\n",
    "A_N = X[['authors_id', 'full_name']]\n",
    "A_N = A_N.drop_duplicates()\n",
    "A_N.head()"
   ]
  },
  {
   "cell_type": "code",
   "execution_count": 17,
   "metadata": {
    "collapsed": false
   },
   "outputs": [
    {
     "data": {
      "text/html": [
       "<div>\n",
       "<table border=\"1\" class=\"dataframe\">\n",
       "  <thead>\n",
       "    <tr style=\"text-align: right;\">\n",
       "      <th></th>\n",
       "      <th>authors_id</th>\n",
       "      <th>full_name</th>\n",
       "    </tr>\n",
       "    <tr>\n",
       "      <th>authors_id</th>\n",
       "      <th></th>\n",
       "      <th></th>\n",
       "    </tr>\n",
       "  </thead>\n",
       "  <tbody>\n",
       "    <tr>\n",
       "      <th>1</th>\n",
       "      <td>1</td>\n",
       "      <td>Gerald//Matlin</td>\n",
       "    </tr>\n",
       "    <tr>\n",
       "      <th>2</th>\n",
       "      <td>2</td>\n",
       "      <td>A.//Jenkins</td>\n",
       "    </tr>\n",
       "    <tr>\n",
       "      <th>3</th>\n",
       "      <td>3</td>\n",
       "      <td>Randall//Johnson</td>\n",
       "    </tr>\n",
       "    <tr>\n",
       "      <th>4</th>\n",
       "      <td>4</td>\n",
       "      <td>Alfonso//Cardenas</td>\n",
       "    </tr>\n",
       "    <tr>\n",
       "      <th>5</th>\n",
       "      <td>5</td>\n",
       "      <td>Robert//Bostrom</td>\n",
       "    </tr>\n",
       "  </tbody>\n",
       "</table>\n",
       "</div>"
      ],
      "text/plain": [
       "            authors_id          full_name\n",
       "authors_id                               \n",
       "1                    1     Gerald//Matlin\n",
       "2                    2        A.//Jenkins\n",
       "3                    3   Randall//Johnson\n",
       "4                    4  Alfonso//Cardenas\n",
       "5                    5    Robert//Bostrom"
      ]
     },
     "execution_count": 17,
     "metadata": {},
     "output_type": "execute_result"
    }
   ],
   "source": [
    "# and I change the index to authors_ids in order to spare some trouble.\n",
    "A_N.index = A_N.authors_id\n",
    "A_N.head()"
   ]
  },
  {
   "cell_type": "code",
   "execution_count": 18,
   "metadata": {
    "collapsed": false
   },
   "outputs": [
    {
     "data": {
      "text/plain": [
       "authors_id\n",
       "1536    1\n",
       "1       2\n",
       "4       1\n",
       "522     1\n",
       "15      1\n",
       "dtype: int64"
      ]
     },
     "execution_count": 18,
     "metadata": {},
     "output_type": "execute_result"
    }
   ],
   "source": [
    "# after we get author's name, then we should get authors' documents number\n",
    "\n",
    "# then I split the table Authors to two sub-tables\n",
    "# SA_paper_num: Single Author paper number\n",
    "# SuA_paper_num: Succes Author paper number\n",
    "\n",
    "SA_paper_num = Authors.ix[single_dogs]\n",
    "SA_paper_num.head()"
   ]
  },
  {
   "cell_type": "code",
   "execution_count": 19,
   "metadata": {
    "collapsed": false
   },
   "outputs": [],
   "source": [
    "# I must add this line to ignore those ugly pink warning boxes\n",
    "\n",
    "from warnings import filterwarnings\n",
    "filterwarnings('ignore') "
   ]
  },
  {
   "cell_type": "code",
   "execution_count": 20,
   "metadata": {
    "collapsed": false
   },
   "outputs": [
    {
     "data": {
      "text/html": [
       "<div>\n",
       "<table border=\"1\" class=\"dataframe\">\n",
       "  <thead>\n",
       "    <tr style=\"text-align: right;\">\n",
       "      <th></th>\n",
       "      <th>authors_id</th>\n",
       "      <th>full_name</th>\n",
       "      <th>paper_num</th>\n",
       "    </tr>\n",
       "    <tr>\n",
       "      <th>authors_id</th>\n",
       "      <th></th>\n",
       "      <th></th>\n",
       "      <th></th>\n",
       "    </tr>\n",
       "  </thead>\n",
       "  <tbody>\n",
       "    <tr>\n",
       "      <th>1</th>\n",
       "      <td>1</td>\n",
       "      <td>Gerald//Matlin</td>\n",
       "      <td>2</td>\n",
       "    </tr>\n",
       "    <tr>\n",
       "      <th>4</th>\n",
       "      <td>4</td>\n",
       "      <td>Alfonso//Cardenas</td>\n",
       "      <td>1</td>\n",
       "    </tr>\n",
       "    <tr>\n",
       "      <th>15</th>\n",
       "      <td>15</td>\n",
       "      <td>Peter//B.</td>\n",
       "      <td>1</td>\n",
       "    </tr>\n",
       "    <tr>\n",
       "      <th>19</th>\n",
       "      <td>19</td>\n",
       "      <td>C.W.//Getz</td>\n",
       "      <td>1</td>\n",
       "    </tr>\n",
       "    <tr>\n",
       "      <th>20</th>\n",
       "      <td>20</td>\n",
       "      <td>Hugh//Juergens</td>\n",
       "      <td>1</td>\n",
       "    </tr>\n",
       "  </tbody>\n",
       "</table>\n",
       "</div>"
      ],
      "text/plain": [
       "            authors_id          full_name  paper_num\n",
       "authors_id                                          \n",
       "1                    1     Gerald//Matlin          2\n",
       "4                    4  Alfonso//Cardenas          1\n",
       "15                  15          Peter//B.          1\n",
       "19                  19         C.W.//Getz          1\n",
       "20                  20     Hugh//Juergens          1"
      ]
     },
     "execution_count": 20,
     "metadata": {},
     "output_type": "execute_result"
    }
   ],
   "source": [
    "# these code is to combine authors' names and authors' papers' number together.\n",
    "\n",
    "Single_Auth = A_N[A_N.authors_id.isin(single_dogs)]\n",
    "Single_Auth[\"paper_num\"] = SA_paper_num\n",
    "\n",
    "Single_Auth.head()"
   ]
  },
  {
   "cell_type": "code",
   "execution_count": 21,
   "metadata": {
    "collapsed": false
   },
   "outputs": [
    {
     "data": {
      "text/html": [
       "<div>\n",
       "<table border=\"1\" class=\"dataframe\">\n",
       "  <thead>\n",
       "    <tr style=\"text-align: right;\">\n",
       "      <th></th>\n",
       "      <th>authors_id</th>\n",
       "      <th>full_name</th>\n",
       "      <th>paper_num</th>\n",
       "    </tr>\n",
       "    <tr>\n",
       "      <th>authors_id</th>\n",
       "      <th></th>\n",
       "      <th></th>\n",
       "      <th></th>\n",
       "    </tr>\n",
       "  </thead>\n",
       "  <tbody>\n",
       "    <tr>\n",
       "      <th>2</th>\n",
       "      <td>2</td>\n",
       "      <td>A.//Jenkins</td>\n",
       "      <td>1</td>\n",
       "    </tr>\n",
       "    <tr>\n",
       "      <th>3</th>\n",
       "      <td>3</td>\n",
       "      <td>Randall//Johnson</td>\n",
       "      <td>1</td>\n",
       "    </tr>\n",
       "    <tr>\n",
       "      <th>5</th>\n",
       "      <td>5</td>\n",
       "      <td>Robert//Bostrom</td>\n",
       "      <td>5</td>\n",
       "    </tr>\n",
       "    <tr>\n",
       "      <th>6</th>\n",
       "      <td>6</td>\n",
       "      <td>J.//Heinen</td>\n",
       "      <td>2</td>\n",
       "    </tr>\n",
       "    <tr>\n",
       "      <th>7</th>\n",
       "      <td>7</td>\n",
       "      <td>James//Johnson</td>\n",
       "      <td>1</td>\n",
       "    </tr>\n",
       "  </tbody>\n",
       "</table>\n",
       "</div>"
      ],
      "text/plain": [
       "            authors_id         full_name  paper_num\n",
       "authors_id                                         \n",
       "2                    2       A.//Jenkins          1\n",
       "3                    3  Randall//Johnson          1\n",
       "5                    5   Robert//Bostrom          5\n",
       "6                    6        J.//Heinen          2\n",
       "7                    7    James//Johnson          1"
      ]
     },
     "execution_count": 21,
     "metadata": {},
     "output_type": "execute_result"
    }
   ],
   "source": [
    "# the same logic is also applied to Success Authors\n",
    "\n",
    "SuA_paper_num = Authors.ix[suc_authors]\n",
    "SuA_paper_num.head()\n",
    "\n",
    "Success_Auth = A_N[A_N.authors_id.isin(suc_authors)]\n",
    "Success_Auth['paper_num'] = SuA_paper_num\n",
    "\n",
    "Success_Auth.head()"
   ]
  },
  {
   "cell_type": "markdown",
   "metadata": {},
   "source": [
    "Here, the table `Single_Auth` and `Success_Auth` can be regarded as the `nodes` in the NetworkX\n",
    "\n",
    "__Next, we should get the `edges` from the list: `combinations`.__"
   ]
  },
  {
   "cell_type": "code",
   "execution_count": 22,
   "metadata": {
    "collapsed": false
   },
   "outputs": [
    {
     "data": {
      "text/html": [
       "<div>\n",
       "<table border=\"1\" class=\"dataframe\">\n",
       "  <thead>\n",
       "    <tr style=\"text-align: right;\">\n",
       "      <th></th>\n",
       "      <th>Edge</th>\n",
       "      <th>frequency</th>\n",
       "    </tr>\n",
       "  </thead>\n",
       "  <tbody>\n",
       "    <tr>\n",
       "      <th>0</th>\n",
       "      <td>(2, 3)</td>\n",
       "      <td>1</td>\n",
       "    </tr>\n",
       "    <tr>\n",
       "      <th>1</th>\n",
       "      <td>(5, 6)</td>\n",
       "      <td>2</td>\n",
       "    </tr>\n",
       "    <tr>\n",
       "      <th>2</th>\n",
       "      <td>(5, 222)</td>\n",
       "      <td>2</td>\n",
       "    </tr>\n",
       "    <tr>\n",
       "      <th>3</th>\n",
       "      <td>(5, 223)</td>\n",
       "      <td>2</td>\n",
       "    </tr>\n",
       "    <tr>\n",
       "      <th>4</th>\n",
       "      <td>(7, 8)</td>\n",
       "      <td>1</td>\n",
       "    </tr>\n",
       "  </tbody>\n",
       "</table>\n",
       "</div>"
      ],
      "text/plain": [
       "       Edge  frequency\n",
       "0    (2, 3)          1\n",
       "1    (5, 6)          2\n",
       "2  (5, 222)          2\n",
       "3  (5, 223)          2\n",
       "4    (7, 8)          1"
      ]
     },
     "execution_count": 22,
     "metadata": {},
     "output_type": "execute_result"
    }
   ],
   "source": [
    "# make the edges to Series\n",
    "Edges = Series(combinations)\n",
    "\n",
    "# for the depulicated edges, we want to get the frequency in the Series.\n",
    "# therefore I need this code to make out a table with every unique Edge and its frequency.\n",
    "Edges = Edges.groupby(Edges).size().reset_index()\n",
    "Edges.rename(columns = {0: 'frequency', \"index\" : 'Edge'}, inplace = True)\n",
    "\n",
    "# have a little view\n",
    "Edges.head()\n"
   ]
  },
  {
   "cell_type": "markdown",
   "metadata": {},
   "source": []
  },
  {
   "cell_type": "markdown",
   "metadata": {},
   "source": [
    "## Part 4 Use Python's NetworkX"
   ]
  },
  {
   "cell_type": "markdown",
   "metadata": {},
   "source": [
    "### 0 Introduction to NetworkX"
   ]
  },
  {
   "cell_type": "markdown",
   "metadata": {},
   "source": [
    "Please refer networkx's docs: https://networkx.readthedocs.io/en/stable/"
   ]
  },
  {
   "cell_type": "markdown",
   "metadata": {},
   "source": [
    "### Preface\n",
    "\n",
    "We can think the network as a tree, the nodes (authors) in a same tree can be regarded in the same commuity.\n",
    "\n",
    "For the whole authors from `misq` data, there are must be many trees, therefore many communities.\n",
    "\n",
    "In a certain sense, communities may be independent to each others.\n",
    "\n",
    "The size of the communities are different. Some communities just have one author, some have two, three, four authors, some may have hundreds authors.\n",
    "\n",
    "It is necessary to separate them apart to each other by following some rules.\n",
    "\n",
    "1. `First Blood`: the communities whose author number is one.\n",
    "\n",
    "2. `Double Kill`: the communities whose author number is two.\n",
    "\n",
    "3. `Triple Kill`: the communities whose author number is three.\n",
    "\n",
    "4. `Quadra Kill`: the communities whose author number is four.\n",
    "\n",
    "5. `Penta Kill`:  the communities whose author number is five or six.\n",
    "\n",
    "6. `Rampage`:     the communities whose author number is seven or eight.\n",
    "\n",
    "7. `Godlike`:     the communities whose author number is 10, 11, 12, 13\n",
    "\n",
    "8. `Legendary`:   the communities whose author number is more than 700.\n",
    "\n"
   ]
  },
  {
   "cell_type": "markdown",
   "metadata": {},
   "source": [
    "### 1 First Blood"
   ]
  },
  {
   "cell_type": "code",
   "execution_count": 23,
   "metadata": {
    "collapsed": false
   },
   "outputs": [
    {
     "name": "stdout",
     "output_type": "stream",
     "text": [
      "authors_id                 1\n",
      "full_name     Gerald//Matlin\n",
      "paper_num                  2\n",
      "Name: 1, dtype: object\n"
     ]
    },
    {
     "data": {
      "text/plain": [
       "1"
      ]
     },
     "execution_count": 23,
     "metadata": {},
     "output_type": "execute_result"
    }
   ],
   "source": [
    "# this shows how to index from DataFrame\n",
    "a = Single_Auth.iloc[0]\n",
    "print(a)\n",
    "a.authors_id"
   ]
  },
  {
   "cell_type": "code",
   "execution_count": 24,
   "metadata": {
    "collapsed": false
   },
   "outputs": [],
   "source": [
    "# 1 with 118\n",
    "\n",
    "# First Blood, is a collection of subgraphs whose node number is only 1\n",
    "First_Blood = nx.Graph()\n",
    "\n",
    "# from Single_Auth, add all the nodes to the big graph: First_Blood.\n",
    "for i in range(len(Single_Auth)):\n",
    "    a = Single_Auth.iloc[i]\n",
    "    # note: I also add full_name and paper_num as the attributes to each node\n",
    "    First_Blood.add_node(a.authors_id, full_name =a.full_name, paper_num = a.paper_num)\n",
    "    \n"
   ]
  },
  {
   "cell_type": "code",
   "execution_count": 25,
   "metadata": {
    "collapsed": true
   },
   "outputs": [],
   "source": [
    "# then we want to classify different authors and draw them out in different styles\n",
    "\n",
    "auth1 = [ auth for (auth, d) in First_Blood.nodes(data = True) if d[\"paper_num\"] ==1]\n",
    "auth2 = [ auth for (auth, d) in First_Blood.nodes(data = True) if d[\"paper_num\"] ==2]\n",
    "auth3 = [ auth for (auth, d) in First_Blood.nodes(data = True) if d[\"paper_num\"] ==3]\n",
    "auth4 = [ auth for (auth, d) in First_Blood.nodes(data = True) if d[\"paper_num\"] >=4]"
   ]
  },
  {
   "cell_type": "code",
   "execution_count": 26,
   "metadata": {
    "collapsed": false
   },
   "outputs": [
    {
     "name": "stdout",
     "output_type": "stream",
     "text": [
      "99\n",
      "15\n",
      "3\n",
      "1\n"
     ]
    }
   ],
   "source": [
    "# to see the distribution\n",
    "print(len(auth1))\n",
    "print(len(auth2))\n",
    "print(len(auth3))\n",
    "print(len(auth4))\n"
   ]
  },
  {
   "cell_type": "code",
   "execution_count": 27,
   "metadata": {
    "collapsed": false
   },
   "outputs": [],
   "source": [
    "# let's generate a layout of this node number\n",
    "pos = nx.random_layout(First_Blood)\n"
   ]
  },
  {
   "cell_type": "code",
   "execution_count": null,
   "metadata": {
    "collapsed": false
   },
   "outputs": [],
   "source": []
  },
  {
   "cell_type": "code",
   "execution_count": 29,
   "metadata": {
    "collapsed": false
   },
   "outputs": [
    {
     "data": {
      "text/plain": [
       "<matplotlib.collections.PathCollection at 0x1153da390>"
      ]
     },
     "execution_count": 29,
     "metadata": {},
     "output_type": "execute_result"
    }
   ],
   "source": [
    "# now we can draw them out\n",
    "\n",
    "# the authors who just have 1 paper\n",
    "nx.draw_networkx_nodes(First_Blood,pos,nodelist = auth1, node_size=30)\n",
    "\n",
    "# the authors who just have 2 papers, and assign its with the size: 60, color: green\n",
    "nx.draw_networkx_nodes(First_Blood,pos,nodelist = auth2, node_size=60, node_color = 'g')\n",
    "# the same logic\n",
    "nx.draw_networkx_nodes(First_Blood,pos,nodelist = auth3, node_size=100, node_color = 'y')\n",
    "\n",
    "# and an interesting node\n",
    "nx.draw_networkx_nodes(First_Blood,pos,nodelist = auth4, node_size=500, node_color = 'b', alpha = 0.4, figsize = (100,400))\n"
   ]
  },
  {
   "cell_type": "code",
   "execution_count": 30,
   "metadata": {
    "collapsed": false
   },
   "outputs": [],
   "source": [
    "plt.savefig(\"graph.pdf\")"
   ]
  },
  {
   "cell_type": "markdown",
   "metadata": {
    "collapsed": true
   },
   "source": [
    "### 2 More than First Blood"
   ]
  },
  {
   "cell_type": "code",
   "execution_count": 31,
   "metadata": {
    "collapsed": false
   },
   "outputs": [],
   "source": [
    "# now for the success authors\n",
    "G = nx.Graph()\n",
    "\n",
    "# base on the same logics\n",
    "\n",
    "# add nodes from Success_Auth\n",
    "for i in range(len(Success_Auth)):\n",
    "    a = Success_Auth.iloc[i]\n",
    "    G.add_node(a.authors_id, full_name =a.full_name, paper_num = a.paper_num)\n",
    "\n",
    "# add nodes from Edges\n",
    "for i in range(len(Edges)):\n",
    "    edge = Edges.iloc[i]\n",
    "    G.add_edge(edge.Edge[0], edge.Edge[1], freq = edge.frequency)"
   ]
  },
  {
   "cell_type": "code",
   "execution_count": 32,
   "metadata": {
    "collapsed": false
   },
   "outputs": [
    {
     "data": {
      "text/plain": [
       "294"
      ]
     },
     "execution_count": 32,
     "metadata": {},
     "output_type": "execute_result"
    }
   ],
   "source": [
    "# Then we can generate the subgraphs\n",
    "# G has many subgraphs\n",
    "# a subgraphs consists of nodes which have edges between each\n",
    "# the subgraphs are independent from each others.\n",
    "\n",
    "# transfer the generator to list\n",
    "subgraphs = list(nx.connected_component_subgraphs(G))\n",
    "\n",
    "# get the length of the subgraphs\n",
    "length = len(subgraphs)\n",
    "length"
   ]
  },
  {
   "cell_type": "code",
   "execution_count": 33,
   "metadata": {
    "collapsed": false
   },
   "outputs": [
    {
     "name": "stdout",
     "output_type": "stream",
     "text": [
      "0      2\n",
      "1     13\n",
      "2    721\n",
      "3      2\n",
      "4      4\n",
      "dtype: int64\n"
     ]
    },
    {
     "data": {
      "text/html": [
       "<div>\n",
       "<table border=\"1\" class=\"dataframe\">\n",
       "  <thead>\n",
       "    <tr style=\"text-align: right;\">\n",
       "      <th></th>\n",
       "      <th>index</th>\n",
       "      <th>0</th>\n",
       "    </tr>\n",
       "  </thead>\n",
       "  <tbody>\n",
       "    <tr>\n",
       "      <th>0</th>\n",
       "      <td>2</td>\n",
       "      <td>156</td>\n",
       "    </tr>\n",
       "    <tr>\n",
       "      <th>1</th>\n",
       "      <td>3</td>\n",
       "      <td>84</td>\n",
       "    </tr>\n",
       "    <tr>\n",
       "      <th>2</th>\n",
       "      <td>4</td>\n",
       "      <td>30</td>\n",
       "    </tr>\n",
       "    <tr>\n",
       "      <th>3</th>\n",
       "      <td>5</td>\n",
       "      <td>8</td>\n",
       "    </tr>\n",
       "    <tr>\n",
       "      <th>4</th>\n",
       "      <td>6</td>\n",
       "      <td>4</td>\n",
       "    </tr>\n",
       "    <tr>\n",
       "      <th>5</th>\n",
       "      <td>7</td>\n",
       "      <td>4</td>\n",
       "    </tr>\n",
       "    <tr>\n",
       "      <th>6</th>\n",
       "      <td>8</td>\n",
       "      <td>3</td>\n",
       "    </tr>\n",
       "    <tr>\n",
       "      <th>7</th>\n",
       "      <td>10</td>\n",
       "      <td>1</td>\n",
       "    </tr>\n",
       "    <tr>\n",
       "      <th>8</th>\n",
       "      <td>11</td>\n",
       "      <td>1</td>\n",
       "    </tr>\n",
       "    <tr>\n",
       "      <th>9</th>\n",
       "      <td>12</td>\n",
       "      <td>1</td>\n",
       "    </tr>\n",
       "    <tr>\n",
       "      <th>10</th>\n",
       "      <td>13</td>\n",
       "      <td>1</td>\n",
       "    </tr>\n",
       "    <tr>\n",
       "      <th>11</th>\n",
       "      <td>721</td>\n",
       "      <td>1</td>\n",
       "    </tr>\n",
       "  </tbody>\n",
       "</table>\n",
       "</div>"
      ],
      "text/plain": [
       "    index    0\n",
       "0       2  156\n",
       "1       3   84\n",
       "2       4   30\n",
       "3       5    8\n",
       "4       6    4\n",
       "5       7    4\n",
       "6       8    3\n",
       "7      10    1\n",
       "8      11    1\n",
       "9      12    1\n",
       "10     13    1\n",
       "11    721    1"
      ]
     },
     "execution_count": 33,
     "metadata": {},
     "output_type": "execute_result"
    }
   ],
   "source": [
    "# here I can group the subgraphs base on theirs nodes number\n",
    "# I create a Series to record each subgraph's nodes number\n",
    "\n",
    "subgraphs_size = Series()\n",
    "for i in range(length):\n",
    "    subgraphs_size.loc[i] = len(subgraphs[i].nodes())\n",
    "\n",
    "# then I use this code to see the distribution of subgraphs' nodes number's distribution\n",
    "discribe = subgraphs_size.groupby(subgraphs_size).size().reset_index()\n",
    "discribe"
   ]
  },
  {
   "cell_type": "markdown",
   "metadata": {},
   "source": [
    "Each subgraphs can be regarded as a community.\n",
    "\n",
    "156 subgraphs have 2 nodes\n",
    "\n",
    "84 subgraphs have 3 nodes\n",
    "\n",
    "30 subgraphs have 4 nodes\n",
    "\n",
    "Interesting and strikingly,\n",
    "\n",
    "There is a subgraph whose node number is 721, the biggest community in the database"
   ]
  },
  {
   "cell_type": "code",
   "execution_count": 34,
   "metadata": {
    "collapsed": true
   },
   "outputs": [],
   "source": [
    "# here I group them by their node number.\n",
    "\n",
    "# 2 nodes\n",
    "double_kill = [ subg for subg in subgraphs if len(subg.nodes()) == 2 ]\n",
    "\n",
    "# 3 nodes\n",
    "triple_kill = [ subg for subg in subgraphs if len(subg.nodes()) == 3 ]\n",
    "\n",
    "# 4 nodes\n",
    "quadra_kill = [ subg for subg in subgraphs if len(subg.nodes()) == 4 ]\n",
    "\n",
    "# 5 - 6 nodes\n",
    "penta_kill  = [ subg for subg in subgraphs \n",
    "               if len(subg.nodes()) == 5  or len(subg.nodes()) == 6 ]\n",
    "\n",
    "# 7 - 8 nodes (no 9 nodes)\n",
    "rampage     = [ subg for subg in subgraphs \n",
    "               if len(subg.nodes()) == 7  or len(subg.nodes()) == 8 ]\n",
    "\n",
    "# 10, 11, 12, 13 nodes\n",
    "godlike     = [ subg for subg in subgraphs \n",
    "               if len(subg.nodes()) >= 10 and len(subg.nodes()) < 14]\n",
    "\n",
    "\n",
    "# 721 biggest nodes              \n",
    "legendary   = [ subg for subg in subgraphs\n",
    "               if len(subg.nodes()) >= 14 ]"
   ]
  },
  {
   "cell_type": "code",
   "execution_count": 35,
   "metadata": {
    "collapsed": false
   },
   "outputs": [],
   "source": [
    "# initialize them from nx.Graph()\n",
    "Double_Kill = nx.Graph()\n",
    "for subg in double_kill:\n",
    "    Double_Kill.add_edges_from(subg.edges(data = True))\n",
    "    Double_Kill.add_nodes_from(subg.nodes(data = True))\n",
    "                   \n",
    "\n",
    "Triple_Kill = nx.Graph()\n",
    "for subg in triple_kill:\n",
    "    Triple_Kill.add_edges_from(subg.edges(data = True))\n",
    "    Triple_Kill.add_nodes_from(subg.nodes(data = True))\n",
    "\n",
    "Quadra_Kill = nx.Graph()\n",
    "for subg in quadra_kill:\n",
    "    Quadra_Kill.add_edges_from(subg.edges(data = True))\n",
    "    Quadra_Kill.add_nodes_from(subg.nodes(data = True))\n",
    "\n",
    "Penta_Kill = nx.Graph()\n",
    "for subg in penta_kill:\n",
    "    Penta_Kill.add_edges_from(subg.edges(data = True))\n",
    "    Penta_Kill.add_nodes_from(subg.nodes(data = True))\n",
    "\n",
    "Rampage = nx.Graph()\n",
    "for subg in rampage:\n",
    "    Rampage.add_edges_from(subg.edges(data = True))\n",
    "    Rampage.add_nodes_from(subg.nodes(data = True))\n",
    "\n",
    "Godlike = nx.Graph()\n",
    "for subg in godlike:\n",
    "    Godlike.add_edges_from(subg.edges(data = True))\n",
    "    Godlike.add_nodes_from(subg.nodes(data = True))\n",
    "\n",
    "Legendary = nx.Graph()\n",
    "for subg in legendary:\n",
    "    Legendary.add_edges_from(subg.edges(data = True))\n",
    "    Legendary.add_nodes_from(subg.nodes(data = True))"
   ]
  },
  {
   "cell_type": "markdown",
   "metadata": {},
   "source": [
    "\n",
    "__Then follow the same logic, we can define a function to do this job__\n"
   ]
  },
  {
   "cell_type": "code",
   "execution_count": 36,
   "metadata": {
    "collapsed": false
   },
   "outputs": [],
   "source": [
    "# create a function to draw them out.\n",
    "\n",
    "\n",
    "\n",
    "# Achievement are:\n",
    "# First_Blood\n",
    "# Double_Kill\n",
    "# Triple_Kill\n",
    "# ...\n",
    "# Legendary\n",
    "\n",
    "# layout are:\n",
    "# \"random\"\n",
    "# \"spring\"\n",
    "# \"spectral\"\n",
    "# \"shell\"\n",
    "\n",
    "def DrawGraph(Achievement, layout = \"random\"):\n",
    "    # choose a layout of graph\n",
    "    if layout == \"random\":\n",
    "        pos = nx.random_layout(Achievement)\n",
    "    if layout == \"shell\":\n",
    "        pos = nx.shell_layout(Achievement)\n",
    "    if layout == \"spring\":\n",
    "        pos = nx.spring_layout(Achievement)\n",
    "    if layout == \"spectral\":\n",
    "        pos = nx.spectral_layout(Achievement)\n",
    "    \n",
    "    # for nodes\n",
    "    \n",
    "    # classify the authors base on their document number\n",
    "    auth1 = [ auth for (auth, d) in Achievement.nodes(data = True) if d[\"paper_num\"] ==1]\n",
    "    auth2 = [ auth for (auth, d) in Achievement.nodes(data = True) if d[\"paper_num\"] ==2]\n",
    "    auth3 = [ auth for (auth, d) in Achievement.nodes(data = True) if d[\"paper_num\"] ==3]\n",
    "    auth4 = [ auth for (auth, d) in Achievement.nodes(data = True) if d[\"paper_num\"] ==4]\n",
    "    \n",
    "    \n",
    "    auth5_10  = [ auth for (auth, d) in Achievement.nodes(data = True) if d[\"paper_num\"] >=5  and d[\"paper_num\"] < 11 ]\n",
    "    auth11_20 = [ auth for (auth, d) in Achievement.nodes(data = True) if d[\"paper_num\"] >=11 and d[\"paper_num\"] < 21 ]  \n",
    "    auth21_30 = [ auth for (auth, d) in Achievement.nodes(data = True) if d[\"paper_num\"] >=21 and d[\"paper_num\"] < 31 ]\n",
    "    \n",
    "    auth31_   =  [ auth for (auth, d) in Achievement.nodes(data = True) if d[\"paper_num\"] >=31]\n",
    "    \n",
    "    \n",
    "    # draw these author nodes\n",
    "    \n",
    "    # here we can change the nodes' size and color and transparent degree by parameter: alpha\n",
    "    nx.draw_networkx_nodes(Achievement,pos,nodelist = auth1, node_size=60)\n",
    "    nx.draw_networkx_nodes(Achievement,pos,nodelist = auth2, node_size=130, node_color = 'g')\n",
    "    nx.draw_networkx_nodes(Achievement,pos,nodelist = auth3, node_size=150, node_color = 'y')\n",
    "    nx.draw_networkx_nodes(Achievement,pos,nodelist = auth4, node_size=200, node_color = 'b')\n",
    "    \n",
    "    \n",
    "    nx.draw_networkx_nodes(Achievement,pos,nodelist = auth5_10,  node_size=400, node_color = 'c',alpha = 0.7)\n",
    "    nx.draw_networkx_nodes(Achievement,pos,nodelist = auth11_20, node_size=500, node_color = 'm',alpha = 0.8)\n",
    "    nx.draw_networkx_nodes(Achievement,pos,nodelist = auth21_30, node_size=800, node_color = 'k',alpha = 0.9)\n",
    "    \n",
    "    nx.draw_networkx_nodes(Achievement,pos,nodelist = auth31_, node_size=1000, node_color = 'r', alpha = 0.5)\n",
    "    \n",
    "    \n",
    "    # for edges\n",
    "    \n",
    "    # classify the edges based on their freqs\n",
    "    edge1 = [ (u,v) for (u,v,d) in Achievement.edges(data = True) if d[\"freq\"] == 1]\n",
    "    edge2 = [ (u,v) for (u,v,d) in Achievement.edges(data = True) if d[\"freq\"] == 2]\n",
    "    edge3 = [ (u,v) for (u,v,d) in Achievement.edges(data = True) if d[\"freq\"] == 3]\n",
    "    \n",
    "    \n",
    "    # here we can change the nodes' size and color and width and transparent degree.\n",
    "    nx.draw_networkx_edges(Achievement, pos, edgelist = edge1, width = 1, edge_color = \"grey\")\n",
    "    nx.draw_networkx_edges(Achievement, pos, edgelist = edge2, width = 5,  edge_color = 'b',alpha = 0.8)\n",
    "    nx.draw_networkx_edges(Achievement, pos, edgelist = edge3, width = 7, edge_color = \"m\",alpha = 0.7)\n",
    "\n",
    "    # for labels\n",
    "    names = {}\n",
    "    for v, d in Achievement.nodes(data = True):\n",
    "        names[v] = d[\"full_name\"]\n",
    "    nx.draw_networkx_labels(Achievement,pos,names,font_size=2, color =\"b\")\n",
    "\n"
   ]
  },
  {
   "cell_type": "code",
   "execution_count": 35,
   "metadata": {
    "collapsed": false
   },
   "outputs": [
    {
     "data": {
      "image/png": "[encoded data removed]",
      "text/plain": [
       "<matplotlib.figure.Figure at 0x119a8ee80>"
      ]
     },
     "metadata": {},
     "output_type": "display_data"
    }
   ],
   "source": [
    "DrawGraph(First_Blood)"
   ]
  },
  {
   "cell_type": "code",
   "execution_count": 36,
   "metadata": {
    "collapsed": false
   },
   "outputs": [],
   "source": [
    "plt.close()"
   ]
  },
  {
   "cell_type": "code",
   "execution_count": 37,
   "metadata": {
    "collapsed": false
   },
   "outputs": [
    {
     "data": {
      "image/png": "[encoded data removed]",
      "text/plain": [
       "<matplotlib.figure.Figure at 0x11a0212b0>"
      ]
     },
     "metadata": {},
     "output_type": "display_data"
    }
   ],
   "source": [
    "DrawGraph(First_Blood, layout = \"spring\")"
   ]
  },
  {
   "cell_type": "code",
   "execution_count": 38,
   "metadata": {
    "collapsed": false
   },
   "outputs": [
    {
     "data": {
      "image/png": "[encoded data removed]",
      "text/plain": [
       "<matplotlib.figure.Figure at 0x119a8efd0>"
      ]
     },
     "metadata": {},
     "output_type": "display_data"
    }
   ],
   "source": [
    "DrawGraph(Double_Kill)"
   ]
  },
  {
   "cell_type": "code",
   "execution_count": 39,
   "metadata": {
    "collapsed": false
   },
   "outputs": [
    {
     "data": {
      "image/png": "[encoded data removed]",
      "text/plain": [
       "<matplotlib.figure.Figure at 0x119f80320>"
      ]
     },
     "metadata": {},
     "output_type": "display_data"
    }
   ],
   "source": [
    "DrawGraph(Double_Kill, layout = \"spring\")"
   ]
  },
  {
   "cell_type": "code",
   "execution_count": 40,
   "metadata": {
    "collapsed": false
   },
   "outputs": [
    {
     "data": {
      "image/png": "[encoded data removed]",
      "text/plain": [
       "<matplotlib.figure.Figure at 0x119f80e48>"
      ]
     },
     "metadata": {},
     "output_type": "display_data"
    }
   ],
   "source": [
    "DrawGraph(Triple_Kill)"
   ]
  },
  {
   "cell_type": "code",
   "execution_count": 41,
   "metadata": {
    "collapsed": false
   },
   "outputs": [
    {
     "data": {
      "image/png": "[encoded data removed]",
      "text/plain": [
       "<matplotlib.figure.Figure at 0x1192722e8>"
      ]
     },
     "metadata": {},
     "output_type": "display_data"
    }
   ],
   "source": [
    "DrawGraph(Triple_Kill, layout = \"spring\")"
   ]
  },
  {
   "cell_type": "code",
   "execution_count": 42,
   "metadata": {
    "collapsed": false
   },
   "outputs": [
    {
     "data": {
      "image/png": "[encoded data removed]",
      "text/plain": [
       "<matplotlib.figure.Figure at 0x11a11ba90>"
      ]
     },
     "metadata": {},
     "output_type": "display_data"
    }
   ],
   "source": [
    "DrawGraph(Quadra_Kill)"
   ]
  },
  {
   "cell_type": "code",
   "execution_count": 43,
   "metadata": {
    "collapsed": false
   },
   "outputs": [
    {
     "data": {
      "image/png": "[encoded data removed]",
      "text/plain": [
       "<matplotlib.figure.Figure at 0x11a53cef0>"
      ]
     },
     "metadata": {},
     "output_type": "display_data"
    }
   ],
   "source": [
    "DrawGraph(Quadra_Kill, layout = \"spring\")"
   ]
  },
  {
   "cell_type": "code",
   "execution_count": 44,
   "metadata": {
    "collapsed": false
   },
   "outputs": [
    {
     "data": {
      "image/png": "[encoded data removed]",
      "text/plain": [
       "<matplotlib.figure.Figure at 0x11b18e898>"
      ]
     },
     "metadata": {},
     "output_type": "display_data"
    }
   ],
   "source": [
    "DrawGraph(Penta_Kill)"
   ]
  },
  {
   "cell_type": "code",
   "execution_count": 45,
   "metadata": {
    "collapsed": false
   },
   "outputs": [
    {
     "data": {
      "image/png": "[encoded data removed]",
      "text/plain": [
       "<matplotlib.figure.Figure at 0x11b029f98>"
      ]
     },
     "metadata": {},
     "output_type": "display_data"
    }
   ],
   "source": [
    "DrawGraph(Penta_Kill, layout = \"spring\")"
   ]
  },
  {
   "cell_type": "code",
   "execution_count": 46,
   "metadata": {
    "collapsed": false
   },
   "outputs": [
    {
     "data": {
      "image/png": "[encoded data removed]",
      "text/plain": [
       "<matplotlib.figure.Figure at 0x11b029908>"
      ]
     },
     "metadata": {},
     "output_type": "display_data"
    }
   ],
   "source": [
    "DrawGraph(Rampage)"
   ]
  },
  {
   "cell_type": "code",
   "execution_count": 47,
   "metadata": {
    "collapsed": false
   },
   "outputs": [
    {
     "data": {
      "image/png": "[encoded data removed]",
      "text/plain": [
       "<matplotlib.figure.Figure at 0x11b0293c8>"
      ]
     },
     "metadata": {},
     "output_type": "display_data"
    }
   ],
   "source": [
    "DrawGraph(Rampage, layout = \"spring\")\n"
   ]
  },
  {
   "cell_type": "code",
   "execution_count": 48,
   "metadata": {
    "collapsed": false
   },
   "outputs": [
    {
     "data": {
      "image/png": "[encoded data removed]",
      "text/plain": [
       "<matplotlib.figure.Figure at 0x11af9c4a8>"
      ]
     },
     "metadata": {},
     "output_type": "display_data"
    }
   ],
   "source": [
    "DrawGraph(Godlike)"
   ]
  },
  {
   "cell_type": "code",
   "execution_count": 49,
   "metadata": {
    "collapsed": false
   },
   "outputs": [
    {
     "data": {
      "image/png": "[encoded data removed]",
      "text/plain": [
       "<matplotlib.figure.Figure at 0x119f3c2e8>"
      ]
     },
     "metadata": {},
     "output_type": "display_data"
    }
   ],
   "source": [
    "DrawGraph(Godlike, layout = \"spring\")"
   ]
  },
  {
   "cell_type": "code",
   "execution_count": 39,
   "metadata": {
    "collapsed": false
   },
   "outputs": [],
   "source": [
    "DrawGraph(Legendary)"
   ]
  },
  {
   "cell_type": "code",
   "execution_count": 37,
   "metadata": {
    "collapsed": false
   },
   "outputs": [],
   "source": [
    "DrawGraph(Legendary, layout = \"spring\")"
   ]
  },
  {
   "cell_type": "code",
   "execution_count": 40,
   "metadata": {
    "collapsed": false
   },
   "outputs": [],
   "source": [
    "plt.savefig(\"legendary2.pdf\")"
   ]
  },
  {
   "cell_type": "code",
   "execution_count": null,
   "metadata": {
    "collapsed": false
   },
   "outputs": [],
   "source": []
  },
  {
   "cell_type": "code",
   "execution_count": null,
   "metadata": {
    "collapsed": true
   },
   "outputs": [],
   "source": []
  },
  {
   "cell_type": "markdown",
   "metadata": {},
   "source": [
    "## Part 5 Use R's NetworkD3"
   ]
  },
  {
   "cell_type": "markdown",
   "metadata": {},
   "source": [
    "__Obviously, the graphs we got were in mess__\n",
    "\n",
    "Even thought significant improvements can be achieved, I turned to `networkd3` now. \n",
    "\n",
    "This is a R package."
   ]
  },
  {
   "cell_type": "code",
   "execution_count": 52,
   "metadata": {
    "collapsed": false
   },
   "outputs": [],
   "source": [
    "# import \"importr\", which means import R.\n",
    "from rpy2.robjects.packages import importr\n",
    "\n",
    "# import R object\n",
    "import rpy2.robjects as ro\n",
    "\n",
    "# import the tool to change Data Frame to R's data.frame\n",
    "from rpy2.robjects import pandas2ri\n",
    "pandas2ri.activate()"
   ]
  },
  {
   "cell_type": "markdown",
   "metadata": {
    "collapsed": false
   },
   "source": [
    "### Take the Legendary as an example"
   ]
  },
  {
   "cell_type": "code",
   "execution_count": 53,
   "metadata": {
    "collapsed": false
   },
   "outputs": [
    {
     "data": {
      "text/html": [
       "<div>\n",
       "<table border=\"1\" class=\"dataframe\">\n",
       "  <thead>\n",
       "    <tr style=\"text-align: right;\">\n",
       "      <th></th>\n",
       "      <th>0</th>\n",
       "      <th>1</th>\n",
       "      <th>2</th>\n",
       "    </tr>\n",
       "  </thead>\n",
       "  <tbody>\n",
       "    <tr>\n",
       "      <th>0</th>\n",
       "      <td>7</td>\n",
       "      <td>8</td>\n",
       "      <td>{'freq': 1}</td>\n",
       "    </tr>\n",
       "    <tr>\n",
       "      <th>1</th>\n",
       "      <td>7</td>\n",
       "      <td>9</td>\n",
       "      <td>{'freq': 1}</td>\n",
       "    </tr>\n",
       "    <tr>\n",
       "      <th>2</th>\n",
       "      <td>8</td>\n",
       "      <td>84</td>\n",
       "      <td>{'freq': 1}</td>\n",
       "    </tr>\n",
       "    <tr>\n",
       "      <th>3</th>\n",
       "      <td>8</td>\n",
       "      <td>9</td>\n",
       "      <td>{'freq': 1}</td>\n",
       "    </tr>\n",
       "    <tr>\n",
       "      <th>4</th>\n",
       "      <td>8</td>\n",
       "      <td>439</td>\n",
       "      <td>{'freq': 1}</td>\n",
       "    </tr>\n",
       "  </tbody>\n",
       "</table>\n",
       "</div>"
      ],
      "text/plain": [
       "   0    1            2\n",
       "0  7    8  {'freq': 1}\n",
       "1  7    9  {'freq': 1}\n",
       "2  8   84  {'freq': 1}\n",
       "3  8    9  {'freq': 1}\n",
       "4  8  439  {'freq': 1}"
      ]
     },
     "execution_count": 53,
     "metadata": {},
     "output_type": "execute_result"
    }
   ],
   "source": [
    "# load the Links data from Legendary to Data Frame\n",
    "\n",
    "Links = pd.DataFrame(data=Legendary.edges(data = True))\n",
    "Links.head()"
   ]
  },
  {
   "cell_type": "markdown",
   "metadata": {
    "collapsed": false
   },
   "source": [
    "__Notice that the elements in the third column are dictionaries.__\n",
    "\n",
    "__We have to change its form__"
   ]
  },
  {
   "cell_type": "code",
   "execution_count": 54,
   "metadata": {
    "collapsed": false
   },
   "outputs": [
    {
     "data": {
      "text/plain": [
       "1294"
      ]
     },
     "execution_count": 54,
     "metadata": {},
     "output_type": "execute_result"
    }
   ],
   "source": [
    "# just in this way\n",
    "\n",
    "freq = Series([edge['freq'] for edge in Links[2]])\n",
    "Links['freq'] = freq\n",
    "len(freq)"
   ]
  },
  {
   "cell_type": "code",
   "execution_count": 55,
   "metadata": {
    "collapsed": false
   },
   "outputs": [
    {
     "data": {
      "text/html": [
       "<div>\n",
       "<table border=\"1\" class=\"dataframe\">\n",
       "  <thead>\n",
       "    <tr style=\"text-align: right;\">\n",
       "      <th></th>\n",
       "      <th>0</th>\n",
       "      <th>1</th>\n",
       "      <th>2</th>\n",
       "      <th>freq</th>\n",
       "    </tr>\n",
       "  </thead>\n",
       "  <tbody>\n",
       "    <tr>\n",
       "      <th>0</th>\n",
       "      <td>7</td>\n",
       "      <td>8</td>\n",
       "      <td>{'freq': 1}</td>\n",
       "      <td>1</td>\n",
       "    </tr>\n",
       "    <tr>\n",
       "      <th>1</th>\n",
       "      <td>7</td>\n",
       "      <td>9</td>\n",
       "      <td>{'freq': 1}</td>\n",
       "      <td>1</td>\n",
       "    </tr>\n",
       "    <tr>\n",
       "      <th>2</th>\n",
       "      <td>8</td>\n",
       "      <td>84</td>\n",
       "      <td>{'freq': 1}</td>\n",
       "      <td>1</td>\n",
       "    </tr>\n",
       "    <tr>\n",
       "      <th>3</th>\n",
       "      <td>8</td>\n",
       "      <td>9</td>\n",
       "      <td>{'freq': 1}</td>\n",
       "      <td>1</td>\n",
       "    </tr>\n",
       "    <tr>\n",
       "      <th>4</th>\n",
       "      <td>8</td>\n",
       "      <td>439</td>\n",
       "      <td>{'freq': 1}</td>\n",
       "      <td>1</td>\n",
       "    </tr>\n",
       "  </tbody>\n",
       "</table>\n",
       "</div>"
      ],
      "text/plain": [
       "   0    1            2  freq\n",
       "0  7    8  {'freq': 1}     1\n",
       "1  7    9  {'freq': 1}     1\n",
       "2  8   84  {'freq': 1}     1\n",
       "3  8    9  {'freq': 1}     1\n",
       "4  8  439  {'freq': 1}     1"
      ]
     },
     "execution_count": 55,
     "metadata": {},
     "output_type": "execute_result"
    }
   ],
   "source": [
    "Links.head()\n"
   ]
  },
  {
   "cell_type": "markdown",
   "metadata": {
    "collapsed": false
   },
   "source": [
    "__Now the column `freq` is cumbersome, why not delete it?__"
   ]
  },
  {
   "cell_type": "code",
   "execution_count": 56,
   "metadata": {
    "collapsed": false
   },
   "outputs": [
    {
     "data": {
      "text/html": [
       "<div>\n",
       "<table border=\"1\" class=\"dataframe\">\n",
       "  <thead>\n",
       "    <tr style=\"text-align: right;\">\n",
       "      <th></th>\n",
       "      <th>0</th>\n",
       "      <th>1</th>\n",
       "      <th>freq</th>\n",
       "    </tr>\n",
       "  </thead>\n",
       "  <tbody>\n",
       "    <tr>\n",
       "      <th>0</th>\n",
       "      <td>7</td>\n",
       "      <td>8</td>\n",
       "      <td>1</td>\n",
       "    </tr>\n",
       "    <tr>\n",
       "      <th>1</th>\n",
       "      <td>7</td>\n",
       "      <td>9</td>\n",
       "      <td>1</td>\n",
       "    </tr>\n",
       "    <tr>\n",
       "      <th>2</th>\n",
       "      <td>8</td>\n",
       "      <td>84</td>\n",
       "      <td>1</td>\n",
       "    </tr>\n",
       "    <tr>\n",
       "      <th>3</th>\n",
       "      <td>8</td>\n",
       "      <td>9</td>\n",
       "      <td>1</td>\n",
       "    </tr>\n",
       "    <tr>\n",
       "      <th>4</th>\n",
       "      <td>8</td>\n",
       "      <td>439</td>\n",
       "      <td>1</td>\n",
       "    </tr>\n",
       "  </tbody>\n",
       "</table>\n",
       "</div>"
      ],
      "text/plain": [
       "   0    1  freq\n",
       "0  7    8     1\n",
       "1  7    9     1\n",
       "2  8   84     1\n",
       "3  8    9     1\n",
       "4  8  439     1"
      ]
     },
     "execution_count": 56,
     "metadata": {},
     "output_type": "execute_result"
    }
   ],
   "source": [
    "del Links[2]\n",
    "Links.head()"
   ]
  },
  {
   "cell_type": "markdown",
   "metadata": {
    "collapsed": false
   },
   "source": [
    "__The same logic for Nodes__"
   ]
  },
  {
   "cell_type": "code",
   "execution_count": 57,
   "metadata": {
    "collapsed": false
   },
   "outputs": [
    {
     "data": {
      "text/html": [
       "<div>\n",
       "<table border=\"1\" class=\"dataframe\">\n",
       "  <thead>\n",
       "    <tr style=\"text-align: right;\">\n",
       "      <th></th>\n",
       "      <th>0</th>\n",
       "      <th>1</th>\n",
       "    </tr>\n",
       "  </thead>\n",
       "  <tbody>\n",
       "    <tr>\n",
       "      <th>0</th>\n",
       "      <td>7</td>\n",
       "      <td>{'paper_num': 1, 'full_name': 'James//Johnson'}</td>\n",
       "    </tr>\n",
       "    <tr>\n",
       "      <th>1</th>\n",
       "      <td>8</td>\n",
       "      <td>{'paper_num': 7, 'full_name': 'Kenneth//Kozar'}</td>\n",
       "    </tr>\n",
       "    <tr>\n",
       "      <th>2</th>\n",
       "      <td>9</td>\n",
       "      <td>{'paper_num': 1, 'full_name': 'David//Ruch'}</td>\n",
       "    </tr>\n",
       "    <tr>\n",
       "      <th>3</th>\n",
       "      <td>21</td>\n",
       "      <td>{'paper_num': 2, 'full_name': 'James//Danziger'}</td>\n",
       "    </tr>\n",
       "    <tr>\n",
       "      <th>4</th>\n",
       "      <td>22</td>\n",
       "      <td>{'paper_num': 3, 'full_name': 'Malcom//Munro'}</td>\n",
       "    </tr>\n",
       "  </tbody>\n",
       "</table>\n",
       "</div>"
      ],
      "text/plain": [
       "    0                                                 1\n",
       "0   7   {'paper_num': 1, 'full_name': 'James//Johnson'}\n",
       "1   8   {'paper_num': 7, 'full_name': 'Kenneth//Kozar'}\n",
       "2   9      {'paper_num': 1, 'full_name': 'David//Ruch'}\n",
       "3  21  {'paper_num': 2, 'full_name': 'James//Danziger'}\n",
       "4  22    {'paper_num': 3, 'full_name': 'Malcom//Munro'}"
      ]
     },
     "execution_count": 57,
     "metadata": {},
     "output_type": "execute_result"
    }
   ],
   "source": [
    "Nodes = pd.DataFrame(data=Legendary.nodes(data = True))\n",
    "Nodes.head()"
   ]
  },
  {
   "cell_type": "code",
   "execution_count": 58,
   "metadata": {
    "collapsed": false
   },
   "outputs": [
    {
     "data": {
      "text/plain": [
       "{'full_name': 'James//Johnson', 'paper_num': 1}"
      ]
     },
     "execution_count": 58,
     "metadata": {},
     "output_type": "execute_result"
    }
   ],
   "source": [
    "Nodes[1][0]"
   ]
  },
  {
   "cell_type": "code",
   "execution_count": 59,
   "metadata": {
    "collapsed": false
   },
   "outputs": [
    {
     "name": "stdout",
     "output_type": "stream",
     "text": [
      "721\n"
     ]
    }
   ],
   "source": [
    "paper_num = Series([auth['paper_num'] for auth in Nodes[1]])\n",
    "print(len(paper_num))"
   ]
  },
  {
   "cell_type": "code",
   "execution_count": 60,
   "metadata": {
    "collapsed": false
   },
   "outputs": [
    {
     "name": "stdout",
     "output_type": "stream",
     "text": [
      "721\n"
     ]
    }
   ],
   "source": [
    "full_name = Series([auth['full_name'] for auth in Nodes[1]])\n",
    "print(len(full_name))"
   ]
  },
  {
   "cell_type": "code",
   "execution_count": 61,
   "metadata": {
    "collapsed": false
   },
   "outputs": [],
   "source": [
    "Nodes['paper_num'] = paper_num\n",
    "Nodes['full_name'] = full_name\n"
   ]
  },
  {
   "cell_type": "code",
   "execution_count": 62,
   "metadata": {
    "collapsed": false
   },
   "outputs": [
    {
     "data": {
      "text/html": [
       "<div>\n",
       "<table border=\"1\" class=\"dataframe\">\n",
       "  <thead>\n",
       "    <tr style=\"text-align: right;\">\n",
       "      <th></th>\n",
       "      <th>0</th>\n",
       "      <th>1</th>\n",
       "      <th>paper_num</th>\n",
       "      <th>full_name</th>\n",
       "    </tr>\n",
       "  </thead>\n",
       "  <tbody>\n",
       "    <tr>\n",
       "      <th>0</th>\n",
       "      <td>7</td>\n",
       "      <td>{'paper_num': 1, 'full_name': 'James//Johnson'}</td>\n",
       "      <td>1</td>\n",
       "      <td>James//Johnson</td>\n",
       "    </tr>\n",
       "    <tr>\n",
       "      <th>1</th>\n",
       "      <td>8</td>\n",
       "      <td>{'paper_num': 7, 'full_name': 'Kenneth//Kozar'}</td>\n",
       "      <td>7</td>\n",
       "      <td>Kenneth//Kozar</td>\n",
       "    </tr>\n",
       "    <tr>\n",
       "      <th>2</th>\n",
       "      <td>9</td>\n",
       "      <td>{'paper_num': 1, 'full_name': 'David//Ruch'}</td>\n",
       "      <td>1</td>\n",
       "      <td>David//Ruch</td>\n",
       "    </tr>\n",
       "    <tr>\n",
       "      <th>3</th>\n",
       "      <td>21</td>\n",
       "      <td>{'paper_num': 2, 'full_name': 'James//Danziger'}</td>\n",
       "      <td>2</td>\n",
       "      <td>James//Danziger</td>\n",
       "    </tr>\n",
       "    <tr>\n",
       "      <th>4</th>\n",
       "      <td>22</td>\n",
       "      <td>{'paper_num': 3, 'full_name': 'Malcom//Munro'}</td>\n",
       "      <td>3</td>\n",
       "      <td>Malcom//Munro</td>\n",
       "    </tr>\n",
       "  </tbody>\n",
       "</table>\n",
       "</div>"
      ],
      "text/plain": [
       "    0                                                 1  paper_num  \\\n",
       "0   7   {'paper_num': 1, 'full_name': 'James//Johnson'}          1   \n",
       "1   8   {'paper_num': 7, 'full_name': 'Kenneth//Kozar'}          7   \n",
       "2   9      {'paper_num': 1, 'full_name': 'David//Ruch'}          1   \n",
       "3  21  {'paper_num': 2, 'full_name': 'James//Danziger'}          2   \n",
       "4  22    {'paper_num': 3, 'full_name': 'Malcom//Munro'}          3   \n",
       "\n",
       "         full_name  \n",
       "0   James//Johnson  \n",
       "1   Kenneth//Kozar  \n",
       "2      David//Ruch  \n",
       "3  James//Danziger  \n",
       "4    Malcom//Munro  "
      ]
     },
     "execution_count": 62,
     "metadata": {},
     "output_type": "execute_result"
    }
   ],
   "source": [
    "Nodes.head()"
   ]
  },
  {
   "cell_type": "code",
   "execution_count": 63,
   "metadata": {
    "collapsed": false
   },
   "outputs": [
    {
     "data": {
      "text/html": [
       "<div>\n",
       "<table border=\"1\" class=\"dataframe\">\n",
       "  <thead>\n",
       "    <tr style=\"text-align: right;\">\n",
       "      <th></th>\n",
       "      <th>0</th>\n",
       "      <th>paper_num</th>\n",
       "      <th>full_name</th>\n",
       "    </tr>\n",
       "  </thead>\n",
       "  <tbody>\n",
       "    <tr>\n",
       "      <th>0</th>\n",
       "      <td>7</td>\n",
       "      <td>1</td>\n",
       "      <td>James//Johnson</td>\n",
       "    </tr>\n",
       "    <tr>\n",
       "      <th>1</th>\n",
       "      <td>8</td>\n",
       "      <td>7</td>\n",
       "      <td>Kenneth//Kozar</td>\n",
       "    </tr>\n",
       "    <tr>\n",
       "      <th>2</th>\n",
       "      <td>9</td>\n",
       "      <td>1</td>\n",
       "      <td>David//Ruch</td>\n",
       "    </tr>\n",
       "    <tr>\n",
       "      <th>3</th>\n",
       "      <td>21</td>\n",
       "      <td>2</td>\n",
       "      <td>James//Danziger</td>\n",
       "    </tr>\n",
       "    <tr>\n",
       "      <th>4</th>\n",
       "      <td>22</td>\n",
       "      <td>3</td>\n",
       "      <td>Malcom//Munro</td>\n",
       "    </tr>\n",
       "  </tbody>\n",
       "</table>\n",
       "</div>"
      ],
      "text/plain": [
       "    0  paper_num        full_name\n",
       "0   7          1   James//Johnson\n",
       "1   8          7   Kenneth//Kozar\n",
       "2   9          1      David//Ruch\n",
       "3  21          2  James//Danziger\n",
       "4  22          3    Malcom//Munro"
      ]
     },
     "execution_count": 63,
     "metadata": {},
     "output_type": "execute_result"
    }
   ],
   "source": [
    "del Nodes[1]\n",
    "Nodes.head()"
   ]
  },
  {
   "cell_type": "markdown",
   "metadata": {},
   "source": [
    "### Here is the Nodes and Links we have"
   ]
  },
  {
   "cell_type": "code",
   "execution_count": 64,
   "metadata": {
    "collapsed": false
   },
   "outputs": [
    {
     "data": {
      "text/html": [
       "<div>\n",
       "<table border=\"1\" class=\"dataframe\">\n",
       "  <thead>\n",
       "    <tr style=\"text-align: right;\">\n",
       "      <th></th>\n",
       "      <th>0</th>\n",
       "      <th>paper_num</th>\n",
       "      <th>full_name</th>\n",
       "    </tr>\n",
       "  </thead>\n",
       "  <tbody>\n",
       "    <tr>\n",
       "      <th>0</th>\n",
       "      <td>7</td>\n",
       "      <td>1</td>\n",
       "      <td>James//Johnson</td>\n",
       "    </tr>\n",
       "    <tr>\n",
       "      <th>1</th>\n",
       "      <td>8</td>\n",
       "      <td>7</td>\n",
       "      <td>Kenneth//Kozar</td>\n",
       "    </tr>\n",
       "    <tr>\n",
       "      <th>2</th>\n",
       "      <td>9</td>\n",
       "      <td>1</td>\n",
       "      <td>David//Ruch</td>\n",
       "    </tr>\n",
       "    <tr>\n",
       "      <th>3</th>\n",
       "      <td>21</td>\n",
       "      <td>2</td>\n",
       "      <td>James//Danziger</td>\n",
       "    </tr>\n",
       "    <tr>\n",
       "      <th>4</th>\n",
       "      <td>22</td>\n",
       "      <td>3</td>\n",
       "      <td>Malcom//Munro</td>\n",
       "    </tr>\n",
       "  </tbody>\n",
       "</table>\n",
       "</div>"
      ],
      "text/plain": [
       "    0  paper_num        full_name\n",
       "0   7          1   James//Johnson\n",
       "1   8          7   Kenneth//Kozar\n",
       "2   9          1      David//Ruch\n",
       "3  21          2  James//Danziger\n",
       "4  22          3    Malcom//Munro"
      ]
     },
     "execution_count": 64,
     "metadata": {},
     "output_type": "execute_result"
    }
   ],
   "source": [
    "Nodes.head()"
   ]
  },
  {
   "cell_type": "code",
   "execution_count": 65,
   "metadata": {
    "collapsed": false
   },
   "outputs": [
    {
     "data": {
      "text/html": [
       "<div>\n",
       "<table border=\"1\" class=\"dataframe\">\n",
       "  <thead>\n",
       "    <tr style=\"text-align: right;\">\n",
       "      <th></th>\n",
       "      <th>0</th>\n",
       "      <th>1</th>\n",
       "      <th>freq</th>\n",
       "    </tr>\n",
       "  </thead>\n",
       "  <tbody>\n",
       "    <tr>\n",
       "      <th>0</th>\n",
       "      <td>7</td>\n",
       "      <td>8</td>\n",
       "      <td>1</td>\n",
       "    </tr>\n",
       "    <tr>\n",
       "      <th>1</th>\n",
       "      <td>7</td>\n",
       "      <td>9</td>\n",
       "      <td>1</td>\n",
       "    </tr>\n",
       "    <tr>\n",
       "      <th>2</th>\n",
       "      <td>8</td>\n",
       "      <td>84</td>\n",
       "      <td>1</td>\n",
       "    </tr>\n",
       "    <tr>\n",
       "      <th>3</th>\n",
       "      <td>8</td>\n",
       "      <td>9</td>\n",
       "      <td>1</td>\n",
       "    </tr>\n",
       "    <tr>\n",
       "      <th>4</th>\n",
       "      <td>8</td>\n",
       "      <td>439</td>\n",
       "      <td>1</td>\n",
       "    </tr>\n",
       "  </tbody>\n",
       "</table>\n",
       "</div>"
      ],
      "text/plain": [
       "   0    1  freq\n",
       "0  7    8     1\n",
       "1  7    9     1\n",
       "2  8   84     1\n",
       "3  8    9     1\n",
       "4  8  439     1"
      ]
     },
     "execution_count": 65,
     "metadata": {},
     "output_type": "execute_result"
    }
   ],
   "source": [
    "Links.head()"
   ]
  },
  {
   "cell_type": "markdown",
   "metadata": {
    "collapsed": false
   },
   "source": [
    "### A big problem to solve"
   ]
  },
  {
   "cell_type": "markdown",
   "metadata": {
    "collapsed": true
   },
   "source": [
    "__Notice our author's label is a series of number__\n",
    "\n",
    "__This series of number is not as 0, 1, 2, 3, .....__\n",
    "\n",
    "__But in the form as 7, 8, 9, 13....__\n",
    "\n",
    "__However, this thing matters__.\n"
   ]
  },
  {
   "cell_type": "markdown",
   "metadata": {
    "collapsed": false
   },
   "source": [
    "__Error raised in Rstudio__\n",
    "\n"
   ]
  },
  {
   "cell_type": "markdown",
   "metadata": {
    "collapsed": false
   },
   "source": [
    "\n",
    "![screen shot 2016-10-02 at 11 09 49 pm](https://cloud.githubusercontent.com/assets/18824134/19021538/9bd5b79c-88f6-11e6-8808-f70462875ec6.png)\n",
    "\n",
    "\n",
    "Here my label is not as the form of 1, 2, 3, 4..."
   ]
  },
  {
   "cell_type": "markdown",
   "metadata": {
    "collapsed": false
   },
   "source": [
    "![screen shot 2016-10-02 at 11 09 38 pm](https://cloud.githubusercontent.com/assets/18824134/19021539/9d8058b8-88f6-11e6-82b0-749f49c8e4c9.png)\n",
    "\n",
    "Error raised"
   ]
  },
  {
   "cell_type": "markdown",
   "metadata": {},
   "source": [
    "### Change to the Required Form"
   ]
  },
  {
   "cell_type": "code",
   "execution_count": 66,
   "metadata": {
    "collapsed": true
   },
   "outputs": [],
   "source": [
    "l = list(Nodes[0])\n",
    "def sort(a):\n",
    "    return l.index(a)"
   ]
  },
  {
   "cell_type": "code",
   "execution_count": 67,
   "metadata": {
    "collapsed": false
   },
   "outputs": [
    {
     "data": {
      "text/plain": [
       "132"
      ]
     },
     "execution_count": 67,
     "metadata": {},
     "output_type": "execute_result"
    }
   ],
   "source": [
    "sort(439)"
   ]
  },
  {
   "cell_type": "code",
   "execution_count": 68,
   "metadata": {
    "collapsed": false
   },
   "outputs": [
    {
     "data": {
      "text/plain": [
       "132"
      ]
     },
     "execution_count": 68,
     "metadata": {},
     "output_type": "execute_result"
    }
   ],
   "source": [
    "sort2 = lambda a: l.index(a)\n",
    "sort2(439)"
   ]
  },
  {
   "cell_type": "code",
   "execution_count": 69,
   "metadata": {
    "collapsed": false
   },
   "outputs": [],
   "source": [
    "Nodes[0] = Nodes[0].map(sort)"
   ]
  },
  {
   "cell_type": "code",
   "execution_count": 70,
   "metadata": {
    "collapsed": false
   },
   "outputs": [
    {
     "data": {
      "text/html": [
       "<div>\n",
       "<table border=\"1\" class=\"dataframe\">\n",
       "  <thead>\n",
       "    <tr style=\"text-align: right;\">\n",
       "      <th></th>\n",
       "      <th>0</th>\n",
       "      <th>1</th>\n",
       "      <th>freq</th>\n",
       "    </tr>\n",
       "  </thead>\n",
       "  <tbody>\n",
       "    <tr>\n",
       "      <th>0</th>\n",
       "      <td>0</td>\n",
       "      <td>1</td>\n",
       "      <td>1</td>\n",
       "    </tr>\n",
       "    <tr>\n",
       "      <th>1</th>\n",
       "      <td>0</td>\n",
       "      <td>2</td>\n",
       "      <td>1</td>\n",
       "    </tr>\n",
       "    <tr>\n",
       "      <th>2</th>\n",
       "      <td>1</td>\n",
       "      <td>28</td>\n",
       "      <td>1</td>\n",
       "    </tr>\n",
       "    <tr>\n",
       "      <th>3</th>\n",
       "      <td>1</td>\n",
       "      <td>2</td>\n",
       "      <td>1</td>\n",
       "    </tr>\n",
       "    <tr>\n",
       "      <th>4</th>\n",
       "      <td>1</td>\n",
       "      <td>132</td>\n",
       "      <td>1</td>\n",
       "    </tr>\n",
       "  </tbody>\n",
       "</table>\n",
       "</div>"
      ],
      "text/plain": [
       "   0    1  freq\n",
       "0  0    1     1\n",
       "1  0    2     1\n",
       "2  1   28     1\n",
       "3  1    2     1\n",
       "4  1  132     1"
      ]
     },
     "execution_count": 70,
     "metadata": {},
     "output_type": "execute_result"
    }
   ],
   "source": [
    "# by this way, the problem is solved \n",
    "\n",
    "Links[0] = Links[0].map(sort)\n",
    "Links[1] = Links[1].map(sort)\n",
    "Links.head()"
   ]
  },
  {
   "cell_type": "markdown",
   "metadata": {
    "collapsed": false
   },
   "source": [
    "### Enter R language"
   ]
  },
  {
   "cell_type": "code",
   "execution_count": 71,
   "metadata": {
    "collapsed": false
   },
   "outputs": [],
   "source": [
    "# transfer to the r object\n",
    "Links_r = pandas2ri.py2ri(Links)"
   ]
  },
  {
   "cell_type": "code",
   "execution_count": 72,
   "metadata": {
    "collapsed": false
   },
   "outputs": [
    {
     "data": {
      "text/html": [
       "<div>\n",
       "<table border=\"1\" class=\"dataframe\">\n",
       "  <thead>\n",
       "    <tr style=\"text-align: right;\">\n",
       "      <th></th>\n",
       "      <th>source</th>\n",
       "      <th>target</th>\n",
       "      <th>freq</th>\n",
       "    </tr>\n",
       "  </thead>\n",
       "  <tbody>\n",
       "    <tr>\n",
       "      <th>1</th>\n",
       "      <td>0</td>\n",
       "      <td>1</td>\n",
       "      <td>1</td>\n",
       "    </tr>\n",
       "    <tr>\n",
       "      <th>2</th>\n",
       "      <td>0</td>\n",
       "      <td>2</td>\n",
       "      <td>1</td>\n",
       "    </tr>\n",
       "    <tr>\n",
       "      <th>3</th>\n",
       "      <td>1</td>\n",
       "      <td>28</td>\n",
       "      <td>1</td>\n",
       "    </tr>\n",
       "    <tr>\n",
       "      <th>4</th>\n",
       "      <td>1</td>\n",
       "      <td>2</td>\n",
       "      <td>1</td>\n",
       "    </tr>\n",
       "    <tr>\n",
       "      <th>5</th>\n",
       "      <td>1</td>\n",
       "      <td>132</td>\n",
       "      <td>1</td>\n",
       "    </tr>\n",
       "    <tr>\n",
       "      <th>6</th>\n",
       "      <td>1</td>\n",
       "      <td>109</td>\n",
       "      <td>1</td>\n",
       "    </tr>\n",
       "    <tr>\n",
       "      <th>7</th>\n",
       "      <td>1</td>\n",
       "      <td>130</td>\n",
       "      <td>1</td>\n",
       "    </tr>\n",
       "    <tr>\n",
       "      <th>8</th>\n",
       "      <td>1</td>\n",
       "      <td>66</td>\n",
       "      <td>1</td>\n",
       "    </tr>\n",
       "    <tr>\n",
       "      <th>9</th>\n",
       "      <td>1</td>\n",
       "      <td>52</td>\n",
       "      <td>1</td>\n",
       "    </tr>\n",
       "    <tr>\n",
       "      <th>10</th>\n",
       "      <td>3</td>\n",
       "      <td>100</td>\n",
       "      <td>1</td>\n",
       "    </tr>\n",
       "    <tr>\n",
       "      <th>11</th>\n",
       "      <td>4</td>\n",
       "      <td>705</td>\n",
       "      <td>1</td>\n",
       "    </tr>\n",
       "    <tr>\n",
       "      <th>12</th>\n",
       "      <td>4</td>\n",
       "      <td>149</td>\n",
       "      <td>1</td>\n",
       "    </tr>\n",
       "    <tr>\n",
       "      <th>13</th>\n",
       "      <td>4</td>\n",
       "      <td>5</td>\n",
       "      <td>1</td>\n",
       "    </tr>\n",
       "    <tr>\n",
       "      <th>14</th>\n",
       "      <td>5</td>\n",
       "      <td>150</td>\n",
       "      <td>1</td>\n",
       "    </tr>\n",
       "    <tr>\n",
       "      <th>15</th>\n",
       "      <td>5</td>\n",
       "      <td>43</td>\n",
       "      <td>1</td>\n",
       "    </tr>\n",
       "    <tr>\n",
       "      <th>16</th>\n",
       "      <td>5</td>\n",
       "      <td>16</td>\n",
       "      <td>1</td>\n",
       "    </tr>\n",
       "    <tr>\n",
       "      <th>17</th>\n",
       "      <td>5</td>\n",
       "      <td>111</td>\n",
       "      <td>2</td>\n",
       "    </tr>\n",
       "    <tr>\n",
       "      <th>18</th>\n",
       "      <td>6</td>\n",
       "      <td>49</td>\n",
       "      <td>2</td>\n",
       "    </tr>\n",
       "    <tr>\n",
       "      <th>19</th>\n",
       "      <td>6</td>\n",
       "      <td>40</td>\n",
       "      <td>2</td>\n",
       "    </tr>\n",
       "    <tr>\n",
       "      <th>20</th>\n",
       "      <td>6</td>\n",
       "      <td>69</td>\n",
       "      <td>1</td>\n",
       "    </tr>\n",
       "    <tr>\n",
       "      <th>21</th>\n",
       "      <td>6</td>\n",
       "      <td>52</td>\n",
       "      <td>2</td>\n",
       "    </tr>\n",
       "    <tr>\n",
       "      <th>22</th>\n",
       "      <td>6</td>\n",
       "      <td>53</td>\n",
       "      <td>2</td>\n",
       "    </tr>\n",
       "    <tr>\n",
       "      <th>23</th>\n",
       "      <td>6</td>\n",
       "      <td>54</td>\n",
       "      <td>1</td>\n",
       "    </tr>\n",
       "    <tr>\n",
       "      <th>24</th>\n",
       "      <td>6</td>\n",
       "      <td>48</td>\n",
       "      <td>2</td>\n",
       "    </tr>\n",
       "    <tr>\n",
       "      <th>25</th>\n",
       "      <td>7</td>\n",
       "      <td>8</td>\n",
       "      <td>1</td>\n",
       "    </tr>\n",
       "    <tr>\n",
       "      <th>26</th>\n",
       "      <td>7</td>\n",
       "      <td>9</td>\n",
       "      <td>1</td>\n",
       "    </tr>\n",
       "    <tr>\n",
       "      <th>27</th>\n",
       "      <td>8</td>\n",
       "      <td>166</td>\n",
       "      <td>1</td>\n",
       "    </tr>\n",
       "    <tr>\n",
       "      <th>28</th>\n",
       "      <td>8</td>\n",
       "      <td>269</td>\n",
       "      <td>1</td>\n",
       "    </tr>\n",
       "    <tr>\n",
       "      <th>29</th>\n",
       "      <td>8</td>\n",
       "      <td>352</td>\n",
       "      <td>1</td>\n",
       "    </tr>\n",
       "    <tr>\n",
       "      <th>30</th>\n",
       "      <td>8</td>\n",
       "      <td>299</td>\n",
       "      <td>1</td>\n",
       "    </tr>\n",
       "    <tr>\n",
       "      <th>...</th>\n",
       "      <td>...</td>\n",
       "      <td>...</td>\n",
       "      <td>...</td>\n",
       "    </tr>\n",
       "    <tr>\n",
       "      <th>1265</th>\n",
       "      <td>651</td>\n",
       "      <td>652</td>\n",
       "      <td>1</td>\n",
       "    </tr>\n",
       "    <tr>\n",
       "      <th>1266</th>\n",
       "      <td>653</td>\n",
       "      <td>654</td>\n",
       "      <td>1</td>\n",
       "    </tr>\n",
       "    <tr>\n",
       "      <th>1267</th>\n",
       "      <td>655</td>\n",
       "      <td>656</td>\n",
       "      <td>1</td>\n",
       "    </tr>\n",
       "    <tr>\n",
       "      <th>1268</th>\n",
       "      <td>657</td>\n",
       "      <td>658</td>\n",
       "      <td>1</td>\n",
       "    </tr>\n",
       "    <tr>\n",
       "      <th>1269</th>\n",
       "      <td>659</td>\n",
       "      <td>660</td>\n",
       "      <td>1</td>\n",
       "    </tr>\n",
       "    <tr>\n",
       "      <th>1270</th>\n",
       "      <td>661</td>\n",
       "      <td>662</td>\n",
       "      <td>1</td>\n",
       "    </tr>\n",
       "    <tr>\n",
       "      <th>1271</th>\n",
       "      <td>661</td>\n",
       "      <td>663</td>\n",
       "      <td>1</td>\n",
       "    </tr>\n",
       "    <tr>\n",
       "      <th>1272</th>\n",
       "      <td>662</td>\n",
       "      <td>687</td>\n",
       "      <td>1</td>\n",
       "    </tr>\n",
       "    <tr>\n",
       "      <th>1273</th>\n",
       "      <td>662</td>\n",
       "      <td>663</td>\n",
       "      <td>1</td>\n",
       "    </tr>\n",
       "    <tr>\n",
       "      <th>1274</th>\n",
       "      <td>662</td>\n",
       "      <td>688</td>\n",
       "      <td>1</td>\n",
       "    </tr>\n",
       "    <tr>\n",
       "      <th>1275</th>\n",
       "      <td>667</td>\n",
       "      <td>668</td>\n",
       "      <td>1</td>\n",
       "    </tr>\n",
       "    <tr>\n",
       "      <th>1276</th>\n",
       "      <td>667</td>\n",
       "      <td>669</td>\n",
       "      <td>1</td>\n",
       "    </tr>\n",
       "    <tr>\n",
       "      <th>1277</th>\n",
       "      <td>668</td>\n",
       "      <td>669</td>\n",
       "      <td>1</td>\n",
       "    </tr>\n",
       "    <tr>\n",
       "      <th>1278</th>\n",
       "      <td>672</td>\n",
       "      <td>673</td>\n",
       "      <td>1</td>\n",
       "    </tr>\n",
       "    <tr>\n",
       "      <th>1279</th>\n",
       "      <td>675</td>\n",
       "      <td>676</td>\n",
       "      <td>1</td>\n",
       "    </tr>\n",
       "    <tr>\n",
       "      <th>1280</th>\n",
       "      <td>681</td>\n",
       "      <td>682</td>\n",
       "      <td>1</td>\n",
       "    </tr>\n",
       "    <tr>\n",
       "      <th>1281</th>\n",
       "      <td>685</td>\n",
       "      <td>686</td>\n",
       "      <td>1</td>\n",
       "    </tr>\n",
       "    <tr>\n",
       "      <th>1282</th>\n",
       "      <td>687</td>\n",
       "      <td>688</td>\n",
       "      <td>1</td>\n",
       "    </tr>\n",
       "    <tr>\n",
       "      <th>1283</th>\n",
       "      <td>689</td>\n",
       "      <td>690</td>\n",
       "      <td>1</td>\n",
       "    </tr>\n",
       "    <tr>\n",
       "      <th>1284</th>\n",
       "      <td>691</td>\n",
       "      <td>692</td>\n",
       "      <td>1</td>\n",
       "    </tr>\n",
       "    <tr>\n",
       "      <th>1285</th>\n",
       "      <td>696</td>\n",
       "      <td>697</td>\n",
       "      <td>1</td>\n",
       "    </tr>\n",
       "    <tr>\n",
       "      <th>1286</th>\n",
       "      <td>696</td>\n",
       "      <td>698</td>\n",
       "      <td>1</td>\n",
       "    </tr>\n",
       "    <tr>\n",
       "      <th>1287</th>\n",
       "      <td>697</td>\n",
       "      <td>698</td>\n",
       "      <td>1</td>\n",
       "    </tr>\n",
       "    <tr>\n",
       "      <th>1288</th>\n",
       "      <td>699</td>\n",
       "      <td>701</td>\n",
       "      <td>1</td>\n",
       "    </tr>\n",
       "    <tr>\n",
       "      <th>1289</th>\n",
       "      <td>699</td>\n",
       "      <td>700</td>\n",
       "      <td>1</td>\n",
       "    </tr>\n",
       "    <tr>\n",
       "      <th>1290</th>\n",
       "      <td>700</td>\n",
       "      <td>701</td>\n",
       "      <td>1</td>\n",
       "    </tr>\n",
       "    <tr>\n",
       "      <th>1291</th>\n",
       "      <td>702</td>\n",
       "      <td>703</td>\n",
       "      <td>1</td>\n",
       "    </tr>\n",
       "    <tr>\n",
       "      <th>1292</th>\n",
       "      <td>706</td>\n",
       "      <td>707</td>\n",
       "      <td>1</td>\n",
       "    </tr>\n",
       "    <tr>\n",
       "      <th>1293</th>\n",
       "      <td>706</td>\n",
       "      <td>708</td>\n",
       "      <td>1</td>\n",
       "    </tr>\n",
       "    <tr>\n",
       "      <th>1294</th>\n",
       "      <td>707</td>\n",
       "      <td>708</td>\n",
       "      <td>1</td>\n",
       "    </tr>\n",
       "  </tbody>\n",
       "</table>\n",
       "<p>1294 rows × 3 columns</p>\n",
       "</div>"
      ],
      "text/plain": [
       "      source  target  freq\n",
       "1          0       1     1\n",
       "2          0       2     1\n",
       "3          1      28     1\n",
       "4          1       2     1\n",
       "5          1     132     1\n",
       "6          1     109     1\n",
       "7          1     130     1\n",
       "8          1      66     1\n",
       "9          1      52     1\n",
       "10         3     100     1\n",
       "11         4     705     1\n",
       "12         4     149     1\n",
       "13         4       5     1\n",
       "14         5     150     1\n",
       "15         5      43     1\n",
       "16         5      16     1\n",
       "17         5     111     2\n",
       "18         6      49     2\n",
       "19         6      40     2\n",
       "20         6      69     1\n",
       "21         6      52     2\n",
       "22         6      53     2\n",
       "23         6      54     1\n",
       "24         6      48     2\n",
       "25         7       8     1\n",
       "26         7       9     1\n",
       "27         8     166     1\n",
       "28         8     269     1\n",
       "29         8     352     1\n",
       "30         8     299     1\n",
       "...      ...     ...   ...\n",
       "1265     651     652     1\n",
       "1266     653     654     1\n",
       "1267     655     656     1\n",
       "1268     657     658     1\n",
       "1269     659     660     1\n",
       "1270     661     662     1\n",
       "1271     661     663     1\n",
       "1272     662     687     1\n",
       "1273     662     663     1\n",
       "1274     662     688     1\n",
       "1275     667     668     1\n",
       "1276     667     669     1\n",
       "1277     668     669     1\n",
       "1278     672     673     1\n",
       "1279     675     676     1\n",
       "1280     681     682     1\n",
       "1281     685     686     1\n",
       "1282     687     688     1\n",
       "1283     689     690     1\n",
       "1284     691     692     1\n",
       "1285     696     697     1\n",
       "1286     696     698     1\n",
       "1287     697     698     1\n",
       "1288     699     701     1\n",
       "1289     699     700     1\n",
       "1290     700     701     1\n",
       "1291     702     703     1\n",
       "1292     706     707     1\n",
       "1293     706     708     1\n",
       "1294     707     708     1\n",
       "\n",
       "[1294 rows x 3 columns]"
      ]
     },
     "execution_count": 72,
     "metadata": {},
     "output_type": "execute_result"
    }
   ],
   "source": [
    "# make the object: source, target\n",
    "ro.globalenv['source'] = Links_r[0]\n",
    "ro.globalenv['target'] = Links_r[1]\n",
    "\n",
    "# the index must be the integers\n",
    "ro.globalenv['freq'] = Links_r[2]\n",
    "\n",
    "ro.r('Links=data.frame(source,target,freq)')"
   ]
  },
  {
   "cell_type": "code",
   "execution_count": 73,
   "metadata": {
    "collapsed": false
   },
   "outputs": [
    {
     "data": {
      "text/html": [
       "<div>\n",
       "<table border=\"1\" class=\"dataframe\">\n",
       "  <thead>\n",
       "    <tr style=\"text-align: right;\">\n",
       "      <th></th>\n",
       "      <th>author_id</th>\n",
       "      <th>num</th>\n",
       "      <th>name</th>\n",
       "    </tr>\n",
       "  </thead>\n",
       "  <tbody>\n",
       "    <tr>\n",
       "      <th>1</th>\n",
       "      <td>0</td>\n",
       "      <td>1</td>\n",
       "      <td>James//Johnson</td>\n",
       "    </tr>\n",
       "    <tr>\n",
       "      <th>2</th>\n",
       "      <td>1</td>\n",
       "      <td>7</td>\n",
       "      <td>Kenneth//Kozar</td>\n",
       "    </tr>\n",
       "    <tr>\n",
       "      <th>3</th>\n",
       "      <td>2</td>\n",
       "      <td>1</td>\n",
       "      <td>David//Ruch</td>\n",
       "    </tr>\n",
       "    <tr>\n",
       "      <th>4</th>\n",
       "      <td>3</td>\n",
       "      <td>2</td>\n",
       "      <td>James//Danziger</td>\n",
       "    </tr>\n",
       "    <tr>\n",
       "      <th>5</th>\n",
       "      <td>4</td>\n",
       "      <td>3</td>\n",
       "      <td>Malcom//Munro</td>\n",
       "    </tr>\n",
       "    <tr>\n",
       "      <th>6</th>\n",
       "      <td>5</td>\n",
       "      <td>5</td>\n",
       "      <td>Gordon//Davis</td>\n",
       "    </tr>\n",
       "    <tr>\n",
       "      <th>7</th>\n",
       "      <td>6</td>\n",
       "      <td>8</td>\n",
       "      <td>Gerardine//DeSanctis</td>\n",
       "    </tr>\n",
       "    <tr>\n",
       "      <th>8</th>\n",
       "      <td>7</td>\n",
       "      <td>1</td>\n",
       "      <td>Charles//Franz</td>\n",
       "    </tr>\n",
       "    <tr>\n",
       "      <th>9</th>\n",
       "      <td>8</td>\n",
       "      <td>7</td>\n",
       "      <td>Daniel//Robey</td>\n",
       "    </tr>\n",
       "    <tr>\n",
       "      <th>10</th>\n",
       "      <td>9</td>\n",
       "      <td>1</td>\n",
       "      <td>Robert//Koeblitz</td>\n",
       "    </tr>\n",
       "    <tr>\n",
       "      <th>11</th>\n",
       "      <td>10</td>\n",
       "      <td>30</td>\n",
       "      <td>Izak//Benbasat</td>\n",
       "    </tr>\n",
       "    <tr>\n",
       "      <th>12</th>\n",
       "      <td>11</td>\n",
       "      <td>5</td>\n",
       "      <td>Albert//Dexter</td>\n",
       "    </tr>\n",
       "    <tr>\n",
       "      <th>13</th>\n",
       "      <td>12</td>\n",
       "      <td>2</td>\n",
       "      <td>Cynthia//Breath</td>\n",
       "    </tr>\n",
       "    <tr>\n",
       "      <th>14</th>\n",
       "      <td>13</td>\n",
       "      <td>13</td>\n",
       "      <td>Blake//Ives</td>\n",
       "    </tr>\n",
       "    <tr>\n",
       "      <th>15</th>\n",
       "      <td>14</td>\n",
       "      <td>3</td>\n",
       "      <td>Tor//Guimaraes</td>\n",
       "    </tr>\n",
       "    <tr>\n",
       "      <th>16</th>\n",
       "      <td>15</td>\n",
       "      <td>1</td>\n",
       "      <td>Vasudevan//Ramanujam</td>\n",
       "    </tr>\n",
       "    <tr>\n",
       "      <th>17</th>\n",
       "      <td>16</td>\n",
       "      <td>4</td>\n",
       "      <td>J.//Couger</td>\n",
       "    </tr>\n",
       "    <tr>\n",
       "      <th>18</th>\n",
       "      <td>17</td>\n",
       "      <td>3</td>\n",
       "      <td>Francois//Bergeron</td>\n",
       "    </tr>\n",
       "    <tr>\n",
       "      <th>19</th>\n",
       "      <td>18</td>\n",
       "      <td>5</td>\n",
       "      <td>Mary//Culnan</td>\n",
       "    </tr>\n",
       "    <tr>\n",
       "      <th>20</th>\n",
       "      <td>19</td>\n",
       "      <td>3</td>\n",
       "      <td>E.//Swanson</td>\n",
       "    </tr>\n",
       "    <tr>\n",
       "      <th>21</th>\n",
       "      <td>20</td>\n",
       "      <td>7</td>\n",
       "      <td>Michael//Vitale</td>\n",
       "    </tr>\n",
       "    <tr>\n",
       "      <th>22</th>\n",
       "      <td>21</td>\n",
       "      <td>2</td>\n",
       "      <td>Robert//Leitheiser</td>\n",
       "    </tr>\n",
       "    <tr>\n",
       "      <th>23</th>\n",
       "      <td>22</td>\n",
       "      <td>10</td>\n",
       "      <td>James//Wetherbe</td>\n",
       "    </tr>\n",
       "    <tr>\n",
       "      <th>24</th>\n",
       "      <td>23</td>\n",
       "      <td>3</td>\n",
       "      <td>James//Brancheau</td>\n",
       "    </tr>\n",
       "    <tr>\n",
       "      <th>25</th>\n",
       "      <td>24</td>\n",
       "      <td>4</td>\n",
       "      <td>Andrew//Boynton</td>\n",
       "    </tr>\n",
       "    <tr>\n",
       "      <th>26</th>\n",
       "      <td>25</td>\n",
       "      <td>9</td>\n",
       "      <td>Robert//Zmud</td>\n",
       "    </tr>\n",
       "    <tr>\n",
       "      <th>27</th>\n",
       "      <td>26</td>\n",
       "      <td>1</td>\n",
       "      <td>George//Houdeshel</td>\n",
       "    </tr>\n",
       "    <tr>\n",
       "      <th>28</th>\n",
       "      <td>27</td>\n",
       "      <td>8</td>\n",
       "      <td>Hugh//Watson</td>\n",
       "    </tr>\n",
       "    <tr>\n",
       "      <th>29</th>\n",
       "      <td>28</td>\n",
       "      <td>1</td>\n",
       "      <td>John//Mahium</td>\n",
       "    </tr>\n",
       "    <tr>\n",
       "      <th>30</th>\n",
       "      <td>29</td>\n",
       "      <td>4</td>\n",
       "      <td>Houston//Carr</td>\n",
       "    </tr>\n",
       "    <tr>\n",
       "      <th>...</th>\n",
       "      <td>...</td>\n",
       "      <td>...</td>\n",
       "      <td>...</td>\n",
       "    </tr>\n",
       "    <tr>\n",
       "      <th>692</th>\n",
       "      <td>691</td>\n",
       "      <td>1</td>\n",
       "      <td>Jonathan//Hua Ye</td>\n",
       "    </tr>\n",
       "    <tr>\n",
       "      <th>693</th>\n",
       "      <td>692</td>\n",
       "      <td>1</td>\n",
       "      <td>Hock/Hai/Teo</td>\n",
       "    </tr>\n",
       "    <tr>\n",
       "      <th>694</th>\n",
       "      <td>693</td>\n",
       "      <td>1</td>\n",
       "      <td>Michelle//Carter</td>\n",
       "    </tr>\n",
       "    <tr>\n",
       "      <th>695</th>\n",
       "      <td>694</td>\n",
       "      <td>1</td>\n",
       "      <td>Giri/Kumar/Tayi</td>\n",
       "    </tr>\n",
       "    <tr>\n",
       "      <th>696</th>\n",
       "      <td>695</td>\n",
       "      <td>1</td>\n",
       "      <td>Anand//Jeyaraj</td>\n",
       "    </tr>\n",
       "    <tr>\n",
       "      <th>697</th>\n",
       "      <td>696</td>\n",
       "      <td>1</td>\n",
       "      <td>Scott/R./Boss</td>\n",
       "    </tr>\n",
       "    <tr>\n",
       "      <th>698</th>\n",
       "      <td>697</td>\n",
       "      <td>1</td>\n",
       "      <td>Gregory//Moody</td>\n",
       "    </tr>\n",
       "    <tr>\n",
       "      <th>699</th>\n",
       "      <td>698</td>\n",
       "      <td>1</td>\n",
       "      <td>Peter//Polak</td>\n",
       "    </tr>\n",
       "    <tr>\n",
       "      <th>700</th>\n",
       "      <td>699</td>\n",
       "      <td>1</td>\n",
       "      <td>Ilgaz//Arikan</td>\n",
       "    </tr>\n",
       "    <tr>\n",
       "      <th>701</th>\n",
       "      <td>700</td>\n",
       "      <td>1</td>\n",
       "      <td>Jessica//Pye</td>\n",
       "    </tr>\n",
       "    <tr>\n",
       "      <th>702</th>\n",
       "      <td>701</td>\n",
       "      <td>1</td>\n",
       "      <td>Amrit//Tiwana</td>\n",
       "    </tr>\n",
       "    <tr>\n",
       "      <th>703</th>\n",
       "      <td>702</td>\n",
       "      <td>1</td>\n",
       "      <td>Wencui//Han</td>\n",
       "    </tr>\n",
       "    <tr>\n",
       "      <th>704</th>\n",
       "      <td>703</td>\n",
       "      <td>1</td>\n",
       "      <td>Serkan//Ada</td>\n",
       "    </tr>\n",
       "    <tr>\n",
       "      <th>705</th>\n",
       "      <td>704</td>\n",
       "      <td>1</td>\n",
       "      <td>Richard//Nolan</td>\n",
       "    </tr>\n",
       "    <tr>\n",
       "      <th>706</th>\n",
       "      <td>705</td>\n",
       "      <td>1</td>\n",
       "      <td>Basil//Wheeler</td>\n",
       "    </tr>\n",
       "    <tr>\n",
       "      <th>707</th>\n",
       "      <td>706</td>\n",
       "      <td>1</td>\n",
       "      <td>Il//Im</td>\n",
       "    </tr>\n",
       "    <tr>\n",
       "      <th>708</th>\n",
       "      <td>707</td>\n",
       "      <td>1</td>\n",
       "      <td>Jongkun//Jun</td>\n",
       "    </tr>\n",
       "    <tr>\n",
       "      <th>709</th>\n",
       "      <td>708</td>\n",
       "      <td>1</td>\n",
       "      <td>SEOK-OH//JEONG</td>\n",
       "    </tr>\n",
       "    <tr>\n",
       "      <th>710</th>\n",
       "      <td>709</td>\n",
       "      <td>1</td>\n",
       "      <td>Roland/T./Rust</td>\n",
       "    </tr>\n",
       "    <tr>\n",
       "      <th>711</th>\n",
       "      <td>710</td>\n",
       "      <td>1</td>\n",
       "      <td>Lior//Fink</td>\n",
       "    </tr>\n",
       "    <tr>\n",
       "      <th>712</th>\n",
       "      <td>711</td>\n",
       "      <td>1</td>\n",
       "      <td>Dorit//Nevo</td>\n",
       "    </tr>\n",
       "    <tr>\n",
       "      <th>713</th>\n",
       "      <td>712</td>\n",
       "      <td>1</td>\n",
       "      <td>Jack//Ewers</td>\n",
       "    </tr>\n",
       "    <tr>\n",
       "      <th>714</th>\n",
       "      <td>713</td>\n",
       "      <td>2</td>\n",
       "      <td>Scott//Hamilton</td>\n",
       "    </tr>\n",
       "    <tr>\n",
       "      <th>715</th>\n",
       "      <td>714</td>\n",
       "      <td>1</td>\n",
       "      <td>Lynne//Bracker</td>\n",
       "    </tr>\n",
       "    <tr>\n",
       "      <th>716</th>\n",
       "      <td>715</td>\n",
       "      <td>1</td>\n",
       "      <td>Ian//Montgomery</td>\n",
       "    </tr>\n",
       "    <tr>\n",
       "      <th>717</th>\n",
       "      <td>716</td>\n",
       "      <td>1</td>\n",
       "      <td>Jack//Hogue</td>\n",
       "    </tr>\n",
       "    <tr>\n",
       "      <th>718</th>\n",
       "      <td>717</td>\n",
       "      <td>1</td>\n",
       "      <td>Robert//Alloway</td>\n",
       "    </tr>\n",
       "    <tr>\n",
       "      <th>719</th>\n",
       "      <td>718</td>\n",
       "      <td>1</td>\n",
       "      <td>Robert//Mann</td>\n",
       "    </tr>\n",
       "    <tr>\n",
       "      <th>720</th>\n",
       "      <td>719</td>\n",
       "      <td>1</td>\n",
       "      <td>Michael//Shank</td>\n",
       "    </tr>\n",
       "    <tr>\n",
       "      <th>721</th>\n",
       "      <td>720</td>\n",
       "      <td>1</td>\n",
       "      <td>Charles//Dickinson</td>\n",
       "    </tr>\n",
       "  </tbody>\n",
       "</table>\n",
       "<p>721 rows × 3 columns</p>\n",
       "</div>"
      ],
      "text/plain": [
       "     author_id  num                  name\n",
       "1            0    1        James//Johnson\n",
       "2            1    7        Kenneth//Kozar\n",
       "3            2    1           David//Ruch\n",
       "4            3    2       James//Danziger\n",
       "5            4    3         Malcom//Munro\n",
       "6            5    5         Gordon//Davis\n",
       "7            6    8  Gerardine//DeSanctis\n",
       "8            7    1        Charles//Franz\n",
       "9            8    7         Daniel//Robey\n",
       "10           9    1      Robert//Koeblitz\n",
       "11          10   30        Izak//Benbasat\n",
       "12          11    5        Albert//Dexter\n",
       "13          12    2       Cynthia//Breath\n",
       "14          13   13           Blake//Ives\n",
       "15          14    3        Tor//Guimaraes\n",
       "16          15    1  Vasudevan//Ramanujam\n",
       "17          16    4            J.//Couger\n",
       "18          17    3    Francois//Bergeron\n",
       "19          18    5          Mary//Culnan\n",
       "20          19    3           E.//Swanson\n",
       "21          20    7       Michael//Vitale\n",
       "22          21    2    Robert//Leitheiser\n",
       "23          22   10       James//Wetherbe\n",
       "24          23    3      James//Brancheau\n",
       "25          24    4       Andrew//Boynton\n",
       "26          25    9          Robert//Zmud\n",
       "27          26    1     George//Houdeshel\n",
       "28          27    8          Hugh//Watson\n",
       "29          28    1          John//Mahium\n",
       "30          29    4         Houston//Carr\n",
       "..         ...  ...                   ...\n",
       "692        691    1      Jonathan//Hua Ye\n",
       "693        692    1          Hock/Hai/Teo\n",
       "694        693    1      Michelle//Carter\n",
       "695        694    1       Giri/Kumar/Tayi\n",
       "696        695    1        Anand//Jeyaraj\n",
       "697        696    1         Scott/R./Boss\n",
       "698        697    1        Gregory//Moody\n",
       "699        698    1          Peter//Polak\n",
       "700        699    1         Ilgaz//Arikan\n",
       "701        700    1          Jessica//Pye\n",
       "702        701    1         Amrit//Tiwana\n",
       "703        702    1           Wencui//Han\n",
       "704        703    1           Serkan//Ada\n",
       "705        704    1        Richard//Nolan\n",
       "706        705    1        Basil//Wheeler\n",
       "707        706    1                Il//Im\n",
       "708        707    1          Jongkun//Jun\n",
       "709        708    1        SEOK-OH//JEONG\n",
       "710        709    1        Roland/T./Rust\n",
       "711        710    1            Lior//Fink\n",
       "712        711    1           Dorit//Nevo\n",
       "713        712    1           Jack//Ewers\n",
       "714        713    2       Scott//Hamilton\n",
       "715        714    1        Lynne//Bracker\n",
       "716        715    1       Ian//Montgomery\n",
       "717        716    1           Jack//Hogue\n",
       "718        717    1       Robert//Alloway\n",
       "719        718    1          Robert//Mann\n",
       "720        719    1        Michael//Shank\n",
       "721        720    1    Charles//Dickinson\n",
       "\n",
       "[721 rows x 3 columns]"
      ]
     },
     "execution_count": 73,
     "metadata": {},
     "output_type": "execute_result"
    }
   ],
   "source": [
    "# this is the same logic for Nodes\n",
    "Nodes_r = pandas2ri.py2ri(Nodes)\n",
    "ro.globalenv['author_id'] = Nodes_r[0]\n",
    "ro.globalenv['num'] = Nodes_r[1]\n",
    "\n",
    "# the index must be the integers\n",
    "ro.globalenv['name'] = Nodes_r[2]\n",
    "\n",
    "ro.r('Nodes=data.frame(author_id,num,name)')\n"
   ]
  },
  {
   "cell_type": "code",
   "execution_count": 74,
   "metadata": {
    "collapsed": false
   },
   "outputs": [],
   "source": [
    "# import R's library\n",
    "utils = importr('utils')\n",
    "networkD3 = importr('networkD3')\n",
    "magrittr = importr('magrittr')"
   ]
  },
  {
   "cell_type": "code",
   "execution_count": 75,
   "metadata": {
    "collapsed": false
   },
   "outputs": [
    {
     "data": {
      "text/html": [
       "<div>\n",
       "<table border=\"1\" class=\"dataframe\">\n",
       "  <thead>\n",
       "    <tr style=\"text-align: right;\">\n",
       "      <th></th>\n",
       "      <th>author_id</th>\n",
       "      <th>num</th>\n",
       "      <th>name</th>\n",
       "    </tr>\n",
       "  </thead>\n",
       "  <tbody>\n",
       "    <tr>\n",
       "      <th>1</th>\n",
       "      <td>0</td>\n",
       "      <td>1</td>\n",
       "      <td>James//Johnson</td>\n",
       "    </tr>\n",
       "    <tr>\n",
       "      <th>2</th>\n",
       "      <td>1</td>\n",
       "      <td>7</td>\n",
       "      <td>Kenneth//Kozar</td>\n",
       "    </tr>\n",
       "    <tr>\n",
       "      <th>3</th>\n",
       "      <td>2</td>\n",
       "      <td>1</td>\n",
       "      <td>David//Ruch</td>\n",
       "    </tr>\n",
       "    <tr>\n",
       "      <th>4</th>\n",
       "      <td>3</td>\n",
       "      <td>2</td>\n",
       "      <td>James//Danziger</td>\n",
       "    </tr>\n",
       "    <tr>\n",
       "      <th>5</th>\n",
       "      <td>4</td>\n",
       "      <td>3</td>\n",
       "      <td>Malcom//Munro</td>\n",
       "    </tr>\n",
       "  </tbody>\n",
       "</table>\n",
       "</div>"
      ],
      "text/plain": [
       "   author_id  num             name\n",
       "1          0    1   James//Johnson\n",
       "2          1    7   Kenneth//Kozar\n",
       "3          2    1      David//Ruch\n",
       "4          3    2  James//Danziger\n",
       "5          4    3    Malcom//Munro"
      ]
     },
     "execution_count": 75,
     "metadata": {},
     "output_type": "execute_result"
    }
   ],
   "source": [
    "# have a look at our data.fram object\n",
    "ro.r(\"Nodes[1:5,]\")"
   ]
  },
  {
   "cell_type": "code",
   "execution_count": 76,
   "metadata": {
    "collapsed": false
   },
   "outputs": [
    {
     "data": {
      "text/html": [
       "<div>\n",
       "<table border=\"1\" class=\"dataframe\">\n",
       "  <thead>\n",
       "    <tr style=\"text-align: right;\">\n",
       "      <th></th>\n",
       "      <th>source</th>\n",
       "      <th>target</th>\n",
       "      <th>freq</th>\n",
       "    </tr>\n",
       "  </thead>\n",
       "  <tbody>\n",
       "    <tr>\n",
       "      <th>1</th>\n",
       "      <td>0</td>\n",
       "      <td>1</td>\n",
       "      <td>1</td>\n",
       "    </tr>\n",
       "    <tr>\n",
       "      <th>2</th>\n",
       "      <td>0</td>\n",
       "      <td>2</td>\n",
       "      <td>1</td>\n",
       "    </tr>\n",
       "    <tr>\n",
       "      <th>3</th>\n",
       "      <td>1</td>\n",
       "      <td>28</td>\n",
       "      <td>1</td>\n",
       "    </tr>\n",
       "    <tr>\n",
       "      <th>4</th>\n",
       "      <td>1</td>\n",
       "      <td>2</td>\n",
       "      <td>1</td>\n",
       "    </tr>\n",
       "    <tr>\n",
       "      <th>5</th>\n",
       "      <td>1</td>\n",
       "      <td>132</td>\n",
       "      <td>1</td>\n",
       "    </tr>\n",
       "  </tbody>\n",
       "</table>\n",
       "</div>"
      ],
      "text/plain": [
       "   source  target  freq\n",
       "1       0       1     1\n",
       "2       0       2     1\n",
       "3       1      28     1\n",
       "4       1       2     1\n",
       "5       1     132     1"
      ]
     },
     "execution_count": 76,
     "metadata": {},
     "output_type": "execute_result"
    }
   ],
   "source": [
    "ro.r(\"Links[1:5,]\")"
   ]
  },
  {
   "cell_type": "code",
   "execution_count": 77,
   "metadata": {
    "collapsed": false
   },
   "outputs": [],
   "source": [
    "# write the R command \n",
    "# here the configuration can be set.\n",
    "R_command = '''\n",
    "a = forceNetwork(Links = Links, \n",
    "             Nodes = Nodes, \n",
    "             Source = \"source\",\n",
    "             Target = \"target\", \n",
    "             Value = \"freq\", \n",
    "             NodeID = \"name\",\n",
    "             Nodesize = \"num\",\n",
    "             Group = \"num\", \n",
    "             opacity = 0.9, \n",
    "             zoom = TRUE,\n",
    "             legend = TRUE,\n",
    "             fontSize = 15,\n",
    "             bounded = TRUE,\n",
    "             charge = -30,\n",
    "             linkWidth = JS(\"function(d) { return d.value*d.value; }\"),\n",
    "             linkDistance = 40,\n",
    "             radiusCalculation = JS(\"3* Math.sqrt(d.nodesize) +5 \"))\n",
    "             '''"
   ]
  },
  {
   "cell_type": "markdown",
   "metadata": {},
   "source": [
    "__For more specific description of the function `forceNetwork`, please have a check in the MarkDown file: `forceNetwork.md` in this repository__"
   ]
  },
  {
   "cell_type": "code",
   "execution_count": 78,
   "metadata": {
    "collapsed": false
   },
   "outputs": [
    {
     "data": {
      "text/plain": [
       "R object with classes: ('forceNetwork', 'htmlwidget') mapped to:\n",
       "<ListVector - Python:0x11a4dbe88 / R:0x11f08a420>\n",
       "[ListV..., RNULL..., RNULL..., ..., RNULL..., RNULL..., ListV...]\n",
       "R object with classes: ('forceNetwork', 'htmlwidget') mapped to:\n",
       "<ListVector - Python:0x11a4dbe88 / R:0x11f08a420>\n",
       "[ListV..., RNULL..., RNULL..., ..., RNULL..., RNULL..., ListV...]\n",
       "  width: <class 'rpy2.rinterface.RNULLType'>\n",
       "  rpy2.rinterface.NULL\n",
       "  height: <class 'rpy2.rinterface.RNULLType'>\n",
       "  rpy2.rinterface.NULL\n",
       "  ...\n",
       "  x: <class 'rpy2.rinterface.RNULLType'>\n",
       "  rpy2.rinterface.NULL\n",
       "  width: <class 'rpy2.rinterface.RNULLType'>\n",
       "  rpy2.rinterface.NULL\n",
       "R object with classes: ('forceNetwork', 'htmlwidget') mapped to:\n",
       "<ListVector - Python:0x11a4dbe88 / R:0x11f08a420>\n",
       "[ListV..., RNULL..., RNULL..., ..., RNULL..., RNULL..., ListV...]"
      ]
     },
     "execution_count": 78,
     "metadata": {},
     "output_type": "execute_result"
    }
   ],
   "source": [
    "ro.r(R_command)"
   ]
  },
  {
   "cell_type": "code",
   "execution_count": 79,
   "metadata": {
    "collapsed": false
   },
   "outputs": [
    {
     "data": {
      "text/plain": [
       "rpy2.rinterface.NULL"
      ]
     },
     "execution_count": 79,
     "metadata": {},
     "output_type": "execute_result"
    }
   ],
   "source": [
    "ro.r('saveNetwork(network = a, file = \"8_legendary.html\")')"
   ]
  },
  {
   "cell_type": "markdown",
   "metadata": {
    "collapsed": false
   },
   "source": [
    "### Create a Function to Do this Job"
   ]
  },
  {
   "cell_type": "code",
   "execution_count": 80,
   "metadata": {
    "collapsed": true
   },
   "outputs": [],
   "source": [
    "def DrawNetGraph(Achievement, filename):\n",
    "\n",
    "\n",
    "    Links = pd.DataFrame(data=Achievement.edges(data = True))\n",
    "    freq = Series([edge['freq'] for edge in Links[2]])\n",
    "\n",
    "    Links['freq'] = freq\n",
    "    del Links[2]\n",
    "\n",
    "\n",
    "\n",
    "    Nodes = pd.DataFrame(data=Achievement.nodes(data = True))\n",
    "    paper_num = Series([auth['paper_num'] for auth in Nodes[1]])\n",
    "    full_name = Series([auth['full_name'] for auth in Nodes[1]])\n",
    "\n",
    "    Nodes['paper_num'] = paper_num\n",
    "    Nodes['full_name'] = full_name\n",
    "    del Nodes[1]\n",
    "\n",
    "    l = list(Nodes[0])\n",
    "    Nodes[0] = Nodes[0].map(lambda a: l.index(a))\n",
    "    Links[0] = Links[0].map(lambda a: l.index(a))\n",
    "    Links[1] = Links[1].map(lambda a: l.index(a))\n",
    "\n",
    "\n",
    "    Links_r = pandas2ri.py2ri(Links)\n",
    "    ro.globalenv['source'] = Links_r[0]\n",
    "    ro.globalenv['target'] = Links_r[1]\n",
    "    # the index must be the integers\n",
    "    ro.globalenv['freq']   = Links_r[2]\n",
    "    ro.r('Links=data.frame(source,target,freq)')\n",
    "\n",
    "\n",
    "    Nodes_r = pandas2ri.py2ri(Nodes)\n",
    "    ro.globalenv['author_id'] = Nodes_r[0]\n",
    "    ro.globalenv['num'] = Nodes_r[1]\n",
    "    # the index must be the integers\n",
    "    ro.globalenv['name'] = Nodes_r[2]\n",
    "    ro.r('Nodes=data.frame(author_id,num,name)')\n",
    "\n",
    "    utils = importr('utils')\n",
    "    networkD3 = importr('networkD3')\n",
    "    magrittr = importr('magrittr')\n",
    "    R_command = '''\n",
    "    a = forceNetwork(Links = Links,\n",
    "                 Nodes = Nodes,\n",
    "                 Source = \"source\",\n",
    "                 Target = \"target\",\n",
    "                 Value = \"freq\",\n",
    "                 NodeID = \"name\",\n",
    "                 Nodesize = \"num\",\n",
    "                 Group = \"num\",\n",
    "                 opacity = 0.9,\n",
    "                 zoom = TRUE,\n",
    "                 legend = TRUE,\n",
    "                 fontSize = 15,\n",
    "                 bounded = TRUE,\n",
    "                 charge = -80,\n",
    "                 linkWidth = JS(\"function(d) { return d.value*d.value; }\"),\n",
    "                 linkDistance = 40,\n",
    "                 radiusCalculation = JS(\"3*Math.sqrt(d.nodesize)+5\"))\n",
    "                 '''\n",
    "\n",
    "    ro.r(R_command)\n",
    "    ro.r('saveNetwork(network = a ,file = \"%s.html\")'%filename)\n"
   ]
  },
  {
   "cell_type": "code",
   "execution_count": 81,
   "metadata": {
    "collapsed": false
   },
   "outputs": [],
   "source": [
    "# make the html files\n",
    "\n",
    "DrawNetGraph(Double_Kill, \"2_double\")\n",
    "DrawNetGraph(Triple_Kill, \"3_triple\")\n",
    "DrawNetGraph(Quadra_Kill, '4_quadra')\n",
    "DrawNetGraph(Penta_Kill, \"5_penta\")\n",
    "DrawNetGraph(Rampage, \"6_rampage\")\n",
    "DrawNetGraph(Godlike, \"7_godlike\")\n"
   ]
  },
  {
   "cell_type": "code",
   "execution_count": null,
   "metadata": {
    "collapsed": false
   },
   "outputs": [],
   "source": []
  },
  {
   "cell_type": "code",
   "execution_count": null,
   "metadata": {
    "collapsed": false
   },
   "outputs": [],
   "source": []
  },
  {
   "cell_type": "code",
   "execution_count": null,
   "metadata": {
    "collapsed": false
   },
   "outputs": [],
   "source": []
  },
  {
   "cell_type": "code",
   "execution_count": null,
   "metadata": {
    "collapsed": false
   },
   "outputs": [],
   "source": []
  },
  {
   "cell_type": "code",
   "execution_count": null,
   "metadata": {
    "collapsed": false
   },
   "outputs": [],
   "source": []
  },
  {
   "cell_type": "code",
   "execution_count": null,
   "metadata": {
    "collapsed": false
   },
   "outputs": [],
   "source": []
  },
  {
   "cell_type": "markdown",
   "metadata": {
    "collapsed": false
   },
   "source": [
    "### Find the index "
   ]
  },
  {
   "cell_type": "code",
   "execution_count": 82,
   "metadata": {
    "collapsed": false
   },
   "outputs": [],
   "source": [
    "l = [2,3,5,4,8,12]\n",
    "\n",
    "a =2\n",
    "\n"
   ]
  },
  {
   "cell_type": "code",
   "execution_count": 83,
   "metadata": {
    "collapsed": false
   },
   "outputs": [
    {
     "data": {
      "text/plain": [
       "0"
      ]
     },
     "execution_count": 83,
     "metadata": {},
     "output_type": "execute_result"
    }
   ],
   "source": [
    "l.index(2)"
   ]
  },
  {
   "cell_type": "code",
   "execution_count": 84,
   "metadata": {
    "collapsed": false
   },
   "outputs": [
    {
     "data": {
      "text/plain": [
       "5"
      ]
     },
     "execution_count": 84,
     "metadata": {},
     "output_type": "execute_result"
    }
   ],
   "source": [
    "l.index(12)"
   ]
  },
  {
   "cell_type": "code",
   "execution_count": 85,
   "metadata": {
    "collapsed": false
   },
   "outputs": [
    {
     "data": {
      "text/plain": [
       "[0, 1, 2, 3, 4, 5]"
      ]
     },
     "execution_count": 85,
     "metadata": {},
     "output_type": "execute_result"
    }
   ],
   "source": [
    "[ l.index(i) for i in l]"
   ]
  },
  {
   "cell_type": "code",
   "execution_count": 86,
   "metadata": {
    "collapsed": false
   },
   "outputs": [],
   "source": [
    "def index(a, l):\n",
    "    return l.index(a)"
   ]
  },
  {
   "cell_type": "code",
   "execution_count": 87,
   "metadata": {
    "collapsed": false
   },
   "outputs": [
    {
     "data": {
      "text/plain": [
       "8"
      ]
     },
     "execution_count": 87,
     "metadata": {},
     "output_type": "execute_result"
    }
   ],
   "source": [
    "l = list(Nodes[0])\n",
    "l.index(8)"
   ]
  },
  {
   "cell_type": "code",
   "execution_count": 88,
   "metadata": {
    "collapsed": false
   },
   "outputs": [
    {
     "data": {
      "text/plain": [
       "[0, 1, 2, 3, 4, 5, 6, 7, 8, 9]"
      ]
     },
     "execution_count": 88,
     "metadata": {},
     "output_type": "execute_result"
    }
   ],
   "source": [
    "l[:10]"
   ]
  },
  {
   "cell_type": "code",
   "execution_count": null,
   "metadata": {
    "collapsed": true
   },
   "outputs": [],
   "source": []
  },
  {
   "cell_type": "code",
   "execution_count": null,
   "metadata": {
    "collapsed": false
   },
   "outputs": [],
   "source": []
  },
  {
   "cell_type": "markdown",
   "metadata": {
    "collapsed": false
   },
   "source": [
    "# Good Game"
   ]
  },
  {
   "cell_type": "code",
   "execution_count": null,
   "metadata": {
    "collapsed": true
   },
   "outputs": [],
   "source": []
  },
  {
   "cell_type": "code",
   "execution_count": null,
   "metadata": {
    "collapsed": true
   },
   "outputs": [],
   "source": []
  },
  {
   "cell_type": "code",
   "execution_count": null,
   "metadata": {
    "collapsed": true
   },
   "outputs": [],
   "source": []
  },
  {
   "cell_type": "code",
   "execution_count": null,
   "metadata": {
    "collapsed": true
   },
   "outputs": [],
   "source": []
  },
  {
   "cell_type": "code",
   "execution_count": null,
   "metadata": {
    "collapsed": true
   },
   "outputs": [],
   "source": []
  }
 ],
 "metadata": {
  "anaconda-cloud": {},
  "kernelspec": {
   "display_name": "Python [default]",
   "language": "python",
   "name": "python3"
  },
  "language_info": {
   "codemirror_mode": {
    "name": "ipython",
    "version": 3
   },
   "file_extension": ".py",
   "mimetype": "text/x-python",
   "name": "python",
   "nbconvert_exporter": "python",
   "pygments_lexer": "ipython3",
   "version": "3.5.2"
  }
 },
 "nbformat": 4,
 "nbformat_minor": 0
}
